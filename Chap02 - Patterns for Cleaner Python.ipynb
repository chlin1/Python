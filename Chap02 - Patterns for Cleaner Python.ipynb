{
  "nbformat": 4,
  "nbformat_minor": 0,
  "metadata": {
    "colab": {
      "name": "Welcome To Colaboratory",
      "provenance": [],
      "collapsed_sections": [],
      "toc_visible": true,
      "include_colab_link": true
    },
    "kernelspec": {
      "display_name": "Python 3",
      "name": "python3"
    }
  },
  "cells": [
    {
      "cell_type": "markdown",
      "metadata": {
        "id": "view-in-github",
        "colab_type": "text"
      },
      "source": [
        "<a href=\"https://colab.research.google.com/github/chlin1/Python/blob/master/Chap02%20-%20Patterns%20for%20Cleaner%20Python.ipynb\" target=\"_parent\"><img src=\"https://colab.research.google.com/assets/colab-badge.svg\" alt=\"Open In Colab\"/></a>"
      ]
    },
    {
      "cell_type": "markdown",
      "metadata": {
        "id": "YqSX27Oz5532",
        "colab_type": "text"
      },
      "source": [
        "# Chap02 - Patterns for Cleaner Python"
      ]
    },
    {
      "cell_type": "markdown",
      "metadata": {
        "id": "FB7HOHFs5535",
        "colab_type": "text"
      },
      "source": [
        " "
      ]
    },
    {
      "cell_type": "markdown",
      "metadata": {
        "colab_type": "text",
        "id": "G9BmKNyP6Jna"
      },
      "source": [
        "## 2.1 `assert`\n",
        "\n",
        "\n",
        "- Python's built-in `assert` statement is an assertion, which increases the stability of the program and makes it easier to debug the program\n",
        "\n",
        "- Python's assertion is the key to being a debugging aid that tests conditions.\n",
        "\n",
        "    - If the assertion condition is `true`, nothing happens and the program continues to run normally.\n",
        "\n",
        "    - However, if the condition is false, an `AssertionError` exception occurs."
      ]
    },
    {
      "cell_type": "markdown",
      "metadata": {
        "id": "KXrRHDyL5537",
        "colab_type": "text"
      },
      "source": [
        " "
      ]
    },
    {
      "cell_type": "markdown",
      "metadata": {
        "id": "JHMo7B105538",
        "colab_type": "text"
      },
      "source": [
        "### `assert` example\n",
        "\n",
        "\n",
        "- Example of `assert` in` apply_discount` function which is a discount coupon function during online shopping mall development\n",
        "\n",
        "    - The discounted price (`price`) cannot be lower than $ 0 and cannot be higher than the product's original price (` product ['price'] `).\n",
        "    \n",
        "    - You can debug this with an `assert` statement."
      ]
    },
    {
      "cell_type": "code",
      "metadata": {
        "ExecuteTime": {
          "end_time": "2019-02-09T12:24:49.647729Z",
          "start_time": "2019-02-09T12:24:49.642526Z"
        },
        "id": "dCk9kGp95539",
        "colab_type": "code",
        "colab": {}
      },
      "source": [
        "def apply_discount(product, discount):\n",
        "    price = int(product['price'] * (1.0 - discount))\n",
        "    assert 0 <= price <= product['price']  # assert\n",
        "    return price"
      ],
      "execution_count": 0,
      "outputs": []
    },
    {
      "cell_type": "code",
      "metadata": {
        "ExecuteTime": {
          "end_time": "2019-02-09T12:24:50.643160Z",
          "start_time": "2019-02-09T12:24:50.628058Z"
        },
        "id": "f8hs_tPB554B",
        "colab_type": "code",
        "outputId": "1e3e6493-d4ef-4e0c-da48-7a25b059cce6",
        "colab": {
          "base_uri": "https://localhost:8080/",
          "height": 34
        }
      },
      "source": [
        "# Product (shoes) definition for example\n",
        "shoes = {'name': 'Fancy Shoes', 'price': 14900}\n",
        "\n",
        "# apply_discount function\n",
        "# Condition works because True is true.\n",
        "apply_discount(shoes, discount=0.25)"
      ],
      "execution_count": 0,
      "outputs": [
        {
          "output_type": "execute_result",
          "data": {
            "text/plain": [
              "11175"
            ]
          },
          "metadata": {
            "tags": []
          },
          "execution_count": 2
        }
      ]
    },
    {
      "cell_type": "markdown",
      "metadata": {
        "id": "RnpZUb2S554F",
        "colab_type": "text"
      },
      "source": [
        "- If an incorrect discount is applied as follows, AssertionError is caused by assertion.\n",
        "\n",
        "- The assert statement makes it easy to determine what caused the exception in the traceback output below."
      ]
    },
    {
      "cell_type": "code",
      "metadata": {
        "ExecuteTime": {
          "end_time": "2019-02-09T12:24:51.812464Z",
          "start_time": "2019-02-09T12:24:51.715529Z"
        },
        "id": "IWWqIfrU554G",
        "colab_type": "code",
        "outputId": "f2ac7fda-f042-454b-968b-6b9616fdb680",
        "colab": {
          "base_uri": "https://localhost:8080/",
          "height": 265
        }
      },
      "source": [
        "# Apply wrong discount\n",
        "apply_discount(shoes, discount=2.0)"
      ],
      "execution_count": 0,
      "outputs": [
        {
          "output_type": "error",
          "ename": "AssertionError",
          "evalue": "ignored",
          "traceback": [
            "\u001b[0;31m---------------------------------------------------------------------------\u001b[0m",
            "\u001b[0;31mAssertionError\u001b[0m                            Traceback (most recent call last)",
            "\u001b[0;32m<ipython-input-3-4101b6d33fba>\u001b[0m in \u001b[0;36m<module>\u001b[0;34m()\u001b[0m\n\u001b[0;32m----> 1\u001b[0;31m \u001b[0mapply_discount\u001b[0m\u001b[0;34m(\u001b[0m\u001b[0mshoes\u001b[0m\u001b[0;34m,\u001b[0m \u001b[0mdiscount\u001b[0m\u001b[0;34m=\u001b[0m\u001b[0;36m2.0\u001b[0m\u001b[0;34m)\u001b[0m\u001b[0;34m\u001b[0m\u001b[0;34m\u001b[0m\u001b[0m\n\u001b[0m",
            "\u001b[0;32m<ipython-input-1-1468e1c03dff>\u001b[0m in \u001b[0;36mapply_discount\u001b[0;34m(product, discount)\u001b[0m\n\u001b[1;32m      1\u001b[0m \u001b[0;32mdef\u001b[0m \u001b[0mapply_discount\u001b[0m\u001b[0;34m(\u001b[0m\u001b[0mproduct\u001b[0m\u001b[0;34m,\u001b[0m \u001b[0mdiscount\u001b[0m\u001b[0;34m)\u001b[0m\u001b[0;34m:\u001b[0m\u001b[0;34m\u001b[0m\u001b[0;34m\u001b[0m\u001b[0m\n\u001b[1;32m      2\u001b[0m     \u001b[0mprice\u001b[0m \u001b[0;34m=\u001b[0m \u001b[0mint\u001b[0m\u001b[0;34m(\u001b[0m\u001b[0mproduct\u001b[0m\u001b[0;34m[\u001b[0m\u001b[0;34m'price'\u001b[0m\u001b[0;34m]\u001b[0m \u001b[0;34m*\u001b[0m \u001b[0;34m(\u001b[0m\u001b[0;36m1.0\u001b[0m \u001b[0;34m-\u001b[0m \u001b[0mdiscount\u001b[0m\u001b[0;34m)\u001b[0m\u001b[0;34m)\u001b[0m\u001b[0;34m\u001b[0m\u001b[0;34m\u001b[0m\u001b[0m\n\u001b[0;32m----> 3\u001b[0;31m     \u001b[0;32massert\u001b[0m \u001b[0;36m0\u001b[0m \u001b[0;34m<=\u001b[0m \u001b[0mprice\u001b[0m \u001b[0;34m<=\u001b[0m \u001b[0mproduct\u001b[0m\u001b[0;34m[\u001b[0m\u001b[0;34m'price'\u001b[0m\u001b[0;34m]\u001b[0m  \u001b[0;31m# assert\u001b[0m\u001b[0;34m\u001b[0m\u001b[0;34m\u001b[0m\u001b[0m\n\u001b[0m\u001b[1;32m      4\u001b[0m     \u001b[0;32mreturn\u001b[0m \u001b[0mprice\u001b[0m\u001b[0;34m\u001b[0m\u001b[0;34m\u001b[0m\u001b[0m\n",
            "\u001b[0;31mAssertionError\u001b[0m: "
          ]
        }
      ]
    },
    {
      "cell_type": "markdown",
      "metadata": {
        "id": "ugxEL9XY554K",
        "colab_type": "text"
      },
      "source": [
        " "
      ]
    },
    {
      "cell_type": "markdown",
      "metadata": {
        "id": "gCZLYkax554L",
        "colab_type": "text"
      },
      "source": [
        "### Unlike general exception handling\n",
        "\n",
        "- Assertions are not meant to signal error conditions (eg `File-Not-Found`), like` if` or exception handling statements.\n",
        "\n",
        "- Python's assertion is not meant to handle runtime errors, but rather to help debugging."
      ]
    },
    {
      "cell_type": "markdown",
      "metadata": {
        "id": "TeJZSplh554M",
        "colab_type": "text"
      },
      "source": [
        " "
      ]
    },
    {
      "cell_type": "markdown",
      "metadata": {
        "id": "-_o2_dvG554N",
        "colab_type": "text"
      },
      "source": [
        "### Python assertion syntax\n",
        "\n",
        "- Python official documentation reference → [link](https://docs.python.org/3/reference/simple_stmts.html?#the-assert-statement)\n",
        "\n",
        "\n",
        "```\n",
        "assert_stmt ::= \"assert\" expression1 [\",\" expression2]\n",
        "```\n",
        "\n",
        "- `expression1` is the condition we test, `expression2` is an error message that appears when an assertion fails.\n",
        "\n",
        "- When executing a `assert` statement, the Python interpreter looks like this:\n",
        "\n",
        "```python\n",
        "if __debug__:\n",
        "    if not expression1:  # expression1 is the test condition\n",
        "        raise AssertionError(expression2)  # expression2 is the error message\n",
        "```\n",
        "\n",
        "- In the above code, before checking for the `assert` condition, the [` __debug__`] (https://docs.python.org/3/library/constants.html?#__debug__) (usually `True`) There is an additional check on this..\n",
        "\n",
        "- You can use `expression2` to pass additional error messages along with` AssertionError` in the traceback message."
      ]
    },
    {
      "cell_type": "markdown",
      "metadata": {
        "id": "vWdDfY-I554O",
        "colab_type": "text"
      },
      "source": [
        " "
      ]
    },
    {
      "cell_type": "markdown",
      "metadata": {
        "id": "Oyf1nOfP554P",
        "colab_type": "text"
      },
      "source": [
        "### Notes on using Python assertions"
      ]
    },
    {
      "cell_type": "markdown",
      "metadata": {
        "id": "oO-MwzGm554Q",
        "colab_type": "text"
      },
      "source": [
        "#### 1) Do not use assert for data validation\n",
        "\n",
        "- [`-0` and` -00`] (https://docs.python.org/3/using/cmdline.html#cmdoption-o) Command line switch and CPython's [`PYTHONOPTIMZE`] (https: // docs.python.org/3/using/cmdline.html#envvar-PYTHONOPTIMIZE) You can disable the global variable `__debug__` using the environment variable.\n",
        "\n",
        "- This will cause the `assert` statement to compile and not run."
      ]
    },
    {
      "cell_type": "markdown",
      "metadata": {
        "id": "7AiPwhUK554R",
        "colab_type": "text"
      },
      "source": [
        "#### 2) Assert never fails\n",
        "\n",
        "- For example, passing a tuple to the first argument of `assert` statement (` expression1`) causes the `assert` statement to always be` True`, as shown below.\n",
        "\n",
        "- This is because the following `assert` statement always checks for tuple objects that are` True`\n",
        "\n",
        "- Python3 displays `SyntaxWarning` for the` assert` statement to prevent this mistake."
      ]
    },
    {
      "cell_type": "code",
      "metadata": {
        "ExecuteTime": {
          "end_time": "2019-02-09T12:25:03.519495Z",
          "start_time": "2019-02-09T12:25:03.513288Z"
        },
        "id": "lBQLcQ62554R",
        "colab_type": "code",
        "outputId": "6ca7d888-4716-45bf-bf40-0d3d0d14dc4e",
        "colab": {
          "base_uri": "https://localhost:8080/",
          "height": 51
        }
      },
      "source": [
        "assert (1 == 2, 'This should fail')"
      ],
      "execution_count": 0,
      "outputs": [
        {
          "output_type": "stream",
          "text": [
            "<ipython-input-4-473cf44d4fd2>:1: SyntaxWarning: assertion is always true, perhaps remove parentheses?\n",
            "  assert (1 == 2, 'This should fail')\n"
          ],
          "name": "stderr"
        }
      ]
    },
    {
      "cell_type": "markdown",
      "metadata": {
        "id": "9wPVWUQs554V",
        "colab_type": "text"
      },
      "source": [
        " "
      ]
    },
    {
      "cell_type": "markdown",
      "metadata": {
        "id": "UIn71oIc554W",
        "colab_type": "text"
      },
      "source": [
        "### Summary\n",
        "\n",
        "- Python’s assert statement is a debugging aid that tests a condition\n",
        "as an internal self-check in your program.\n",
        "\n",
        "- Asserts should only be used to help developers identify bugs.\n",
        "They’re not a mechanism for handling run-time errors.\n",
        "\n",
        "- Asserts can be globally disabled with an interpreter setting (`__debug__ = False`)."
      ]
    },
    {
      "cell_type": "markdown",
      "metadata": {
        "id": "p5pWLjBm554X",
        "colab_type": "text"
      },
      "source": [
        " "
      ]
    },
    {
      "cell_type": "markdown",
      "metadata": {
        "id": "sG1Bbm6v554Y",
        "colab_type": "text"
      },
      "source": [
        "## 2.2 Complacent Comma Placement\n",
        "\n",
        "\n",
        "- ** End all lines with commas (`,`)! **\n",
        "\n",
        "- This is useful for adding and removing items from Python list, dictionary, and set constants.\n",
        "\n",
        "- You can quickly see what items have been added, removed, or modified in `git diff`."
      ]
    },
    {
      "cell_type": "code",
      "metadata": {
        "id": "i_NT2AgT554Z",
        "colab_type": "code",
        "colab": {}
      },
      "source": [
        "# One-line list\n",
        "names = ['Alice', 'Bob', 'Dilbert']\n",
        "\n",
        "# Comma-separated list of all rows\n",
        "names = [\n",
        "    'Alice',\n",
        "    'Bob', \n",
        "    'Dilbert'\n",
        "]"
      ],
      "execution_count": 0,
      "outputs": []
    },
    {
      "cell_type": "markdown",
      "metadata": {
        "id": "E-tAWvF7554c",
        "colab_type": "text"
      },
      "source": [
        " "
      ]
    },
    {
      "cell_type": "markdown",
      "metadata": {
        "id": "ML4TucG3554d",
        "colab_type": "text"
      },
      "source": [
        "### Precautions\n",
        "\n",
        "- For lists consisting of strings (`str`), if you do not add a comma (`, `) when adding an item to the list, [** Concatenate string literals **] (https://docs.python.org/3 /reference/lexical_analysis.html#string-literal-concatenation) (string literal concatenation) occurs.\n",
        "\n",
        "- In the example below, adding `Jane` to` Dilbert` without a comma after `Dilbert` in the` names` list will merge the string into `DilbertJane`."
      ]
    },
    {
      "cell_type": "code",
      "metadata": {
        "id": "1z8C4a24554e",
        "colab_type": "code",
        "outputId": "c3444024-dce7-495f-ce78-45270bca49fe",
        "colab": {
          "base_uri": "https://localhost:8080/",
          "height": 34
        }
      },
      "source": [
        "# String Literal Concatenation\n",
        "names = [\n",
        "    'Alice',\n",
        "    'Bob', \n",
        "    'Dilbert'\n",
        "    'Jane'\n",
        "]\n",
        "\n",
        "names"
      ],
      "execution_count": 0,
      "outputs": [
        {
          "output_type": "execute_result",
          "data": {
            "text/plain": [
              "['Alice', 'Bob', 'DilbertJane']"
            ]
          },
          "metadata": {
            "tags": []
          },
          "execution_count": 6
        }
      ]
    },
    {
      "cell_type": "markdown",
      "metadata": {
        "id": "bAuqCdxo554h",
        "colab_type": "text"
      },
      "source": [
        "- To solve the above problem, in Python you can put a comma (,) at the end of every item in a list, dictionary, or set constant.\n",
        "\n",
        "- Smart formatting and comma placement can make your list,\n",
        "dict, or set constants easier to maintain.\n",
        "\n",
        "- Python’s string literal concatenation feature can work to your\n",
        "benefit, or introduce hard-to-catch bugs."
      ]
    },
    {
      "cell_type": "code",
      "metadata": {
        "id": "iGPsqVaZ554h",
        "colab_type": "code",
        "colab": {}
      },
      "source": [
        "# \n",
        "Comma (,) at end of list item\n",
        "names = [\n",
        "    'Alice',\n",
        "    'Bob',\n",
        "    'Dilbert',  # <-Add a comma!\n",
        "]"
      ],
      "execution_count": 0,
      "outputs": []
    },
    {
      "cell_type": "markdown",
      "metadata": {
        "id": "T9niyLgh554k",
        "colab_type": "text"
      },
      "source": [
        " "
      ]
    },
    {
      "cell_type": "markdown",
      "metadata": {
        "id": "sZLpFVgn554m",
        "colab_type": "text"
      },
      "source": [
        "## 2.3 Context Managers and the `with` Statement\n",
        "\n",
        "\n",
        "- It helps simplify some common\n",
        "resource management patterns by abstracting their functionality\n",
        "and allowing them to be factored out and reused.\n",
        "\n",
        "- For example, Python's built-in `open ()` can be used with the `with` statement to open a file easily.\n",
        "\n",
        "    - If you leave the `with` context, the file (` f`) is automatically closed (`close ()`)."
      ]
    },
    {
      "cell_type": "code",
      "metadata": {
        "id": "J5rKLCSI554o",
        "colab_type": "code",
        "colab": {}
      },
      "source": [
        "# Open file with with\n",
        "with open('./samples/hello.txt', 'w') as f:\n",
        "    f.write('hello, world!')"
      ],
      "execution_count": 0,
      "outputs": []
    },
    {
      "cell_type": "markdown",
      "metadata": {
        "id": "zNmNvZKf554q",
        "colab_type": "text"
      },
      "source": [
        "- The above code is internally converted and executed as follows."
      ]
    },
    {
      "cell_type": "code",
      "metadata": {
        "id": "mJ-LM8SX554r",
        "colab_type": "code",
        "colab": {}
      },
      "source": [
        "f = open('./samples/hello.txt', 'w')\n",
        "try:\n",
        "    f.write('hello, world!')\n",
        "finally:\n",
        "    f.close()"
      ],
      "execution_count": 0,
      "outputs": []
    },
    {
      "cell_type": "markdown",
      "metadata": {
        "id": "zcfQZ8zt554u",
        "colab_type": "text"
      },
      "source": [
        "- If you write as follows without using try ... finally statement as in the code above, if an exception occurs during the call to f.write (), the file cannot be closed."
      ]
    },
    {
      "cell_type": "code",
      "metadata": {
        "id": "Ih__rhJD554v",
        "colab_type": "code",
        "colab": {}
      },
      "source": [
        "f = open('./samples/hello.txt', 'w')\n",
        "f.write('hello, world!')\n",
        "f.close()"
      ],
      "execution_count": 0,
      "outputs": []
    },
    {
      "cell_type": "markdown",
      "metadata": {
        "id": "_5skRPG2554x",
        "colab_type": "text"
      },
      "source": [
        "- Therefore, using the `with` statement is very useful because it properly reserves and returns resources.\n",
        "\n",
        "- The `with` statement can make the code that handles system resources more readable."
      ]
    },
    {
      "cell_type": "markdown",
      "metadata": {
        "id": "aM0evN0s554y",
        "colab_type": "text"
      },
      "source": [
        " "
      ]
    },
    {
      "cell_type": "markdown",
      "metadata": {
        "id": "NLPe-9Ei554z",
        "colab_type": "text"
      },
      "source": [
        "### Supporting with in Your Own Objects"
      ]
    },
    {
      "cell_type": "markdown",
      "metadata": {
        "id": "oqWVtfvr5540",
        "colab_type": "text"
      },
      "source": [
        "#### 1) Class-based\n",
        "\n",
        "- If you implement [Context Managers](https://docs.python.org/3/reference/datamodel.html#with-statement-context-managers), you can use the same functionality for your own classes and functions.\n",
        "\n",
        "- The context manager is the 'protocol' that the object must follow to support the `with` statement.\n",
        "    - `__enter__` : Enter the runtime context related to this object.\n",
        "    - `__exit__` : Exit the runtime context related to this object.\n",
        "    \n",
        "    \n",
        "- The following example is an implementation of the `open ()` context manager with the class `ManagedFile`."
      ]
    },
    {
      "cell_type": "code",
      "metadata": {
        "id": "j-67o5wc5541",
        "colab_type": "code",
        "colab": {}
      },
      "source": [
        "class ManagedFile:\n",
        "    def __init__(self, name):\n",
        "        self.name = name\n",
        "    \n",
        "    def __enter__(self):\n",
        "        self.file = open(self.name, 'w')\n",
        "        return self.file\n",
        "    \n",
        "    def __exit__(self, exc_type, exc_val, exc_tb):\n",
        "        if self.file:\n",
        "            self.file.close()"
      ],
      "execution_count": 0,
      "outputs": []
    },
    {
      "cell_type": "code",
      "metadata": {
        "id": "p65pmk-L5543",
        "colab_type": "code",
        "colab": {}
      },
      "source": [
        "with ManagedFile('./samples/hello2.txt') as f:\n",
        "    f.write('hello, world!')\n",
        "    f.write('bye now')"
      ],
      "execution_count": 0,
      "outputs": []
    },
    {
      "cell_type": "markdown",
      "metadata": {
        "id": "bkEf05FK5547",
        "colab_type": "text"
      },
      "source": [
        "- In the code above, when you enter the context of a `with` statement, you call` __enter__` and free up resources.\n",
        "\n",
        "- Then, when you leave the context, you call `__exit__` to return the resource."
      ]
    },
    {
      "cell_type": "markdown",
      "metadata": {
        "id": "yMOG_AlX5549",
        "colab_type": "text"
      },
      "source": [
        " "
      ]
    },
    {
      "cell_type": "markdown",
      "metadata": {
        "id": "FwQUy5Pl554-",
        "colab_type": "text"
      },
      "source": [
        "#### 2) Generator based\n",
        "\n",
        "- It can also be implemented using Python's [`contextlib`] (https://docs.python.org/3/library/contextlib.html) module.\n",
        "\n",
        "- The `with` statement can be used easily with` contextlib`.\n",
        "\n",
        "- For example, you can define a generator function with the `contextlib.contextmanager` decorator."
      ]
    },
    {
      "cell_type": "code",
      "metadata": {
        "id": "DVbzc-U1554_",
        "colab_type": "code",
        "colab": {}
      },
      "source": [
        "from contextlib import contextmanager\n",
        "\n",
        "@contextmanager\n",
        "def managed_file(name):\n",
        "    try:\n",
        "        f = open(name, 'w')\n",
        "        yield f\n",
        "    finally:\n",
        "        f.close()"
      ],
      "execution_count": 0,
      "outputs": []
    },
    {
      "cell_type": "code",
      "metadata": {
        "id": "mEgXn211555C",
        "colab_type": "code",
        "colab": {}
      },
      "source": [
        "with managed_file('./samples/hello3.txt') as f:\n",
        "    f.write('hello, world!')\n",
        "    f.write('bye now')"
      ],
      "execution_count": 0,
      "outputs": []
    },
    {
      "cell_type": "markdown",
      "metadata": {
        "id": "AmMnuMaj555E",
        "colab_type": "text"
      },
      "source": [
        "- In the code above, managed_file () first acquires the resource as a generator and then passes the obtained resource to the caller.\n",
        "\n",
        "- When the context ends, the generator performs the remaining steps to return the resource."
      ]
    },
    {
      "cell_type": "markdown",
      "metadata": {
        "id": "OV8B4kr0555F",
        "colab_type": "text"
      },
      "source": [
        " "
      ]
    },
    {
      "cell_type": "markdown",
      "metadata": {
        "id": "2YbidsNk555G",
        "colab_type": "text"
      },
      "source": [
        "### Key takeaways\n",
        "\n",
        "- The `with` statement simplifies exception handling by encapsulating the use of the try / finally statement in the context manager.\n",
        "\n",
        "- The resource is obtained by the `with` statement and is automatically released when leaving the context."
      ]
    },
    {
      "cell_type": "markdown",
      "metadata": {
        "id": "gZpJkBxP555G",
        "colab_type": "text"
      },
      "source": [
        " "
      ]
    },
    {
      "cell_type": "markdown",
      "metadata": {
        "id": "qD5K825w555H",
        "colab_type": "text"
      },
      "source": [
        "## 2.4 Underscores, Dunders, and More\n",
        "\n",
        "- In Python, underscores sometimes use `_` at the beginning (prefix) or at the end (suffix) of a variable or method.\n",
        "\n",
        "    - Single underscore prefix: `_var`\n",
        "    - Single underscore suffix: var_\n",
        "    - Double underscore prefix: `__var`\n",
        "    - Double underscore prefix and suffix: `__var__`\n",
        "    - Single underscore character: `_`"
      ]
    },
    {
      "cell_type": "markdown",
      "metadata": {
        "id": "5xnFzeG5555I",
        "colab_type": "text"
      },
      "source": [
        "### 2.4.1 Single underscore prefix: `_var\n",
        "\n",
        "- A single underscore prefix in variable and method names is a convention only to the programmer.\n",
        "\n",
        "- It does not affect the actual program operation.\n",
        "\n",
        "- The variable or method has the meaning ** 'used internally' **.\n",
        "\n",
        "- Python, unlike other languages, has no distinction between `private` and` public`."
      ]
    },
    {
      "cell_type": "code",
      "metadata": {
        "id": "Hg2_jYth555J",
        "colab_type": "code",
        "colab": {}
      },
      "source": [
        "class Test:\n",
        "    def __init__(self):\n",
        "        self.foo = 11\n",
        "        self._bar = 23"
      ],
      "execution_count": 0,
      "outputs": []
    },
    {
      "cell_type": "code",
      "metadata": {
        "id": "-XGSzlvl555L",
        "colab_type": "code",
        "outputId": "5ccdd393-6e5b-4898-e6b5-26f5ed446135",
        "colab": {
          "base_uri": "https://localhost:8080/",
          "height": 51
        }
      },
      "source": [
        "t = Test()\n",
        "print('t.foo :', t.foo)\n",
        "print('t._bar :', t._bar)"
      ],
      "execution_count": 0,
      "outputs": [
        {
          "output_type": "stream",
          "text": [
            "t.foo : 11\n",
            "t._bar : 23\n"
          ],
          "name": "stdout"
        }
      ]
    },
    {
      "cell_type": "markdown",
      "metadata": {
        "id": "LfIbgs_j555N",
        "colab_type": "text"
      },
      "source": [
        " "
      ]
    },
    {
      "cell_type": "markdown",
      "metadata": {
        "id": "GxNwgbMM555O",
        "colab_type": "text"
      },
      "source": [
        "- As in the above result, Python does not block _bar's access.\n",
        "\n",
        "- However, when importing from a module via wildcard import, as in the output below, it is not imported."
      ]
    },
    {
      "cell_type": "code",
      "metadata": {
        "id": "HWY8i3dP555P",
        "colab_type": "code",
        "outputId": "251e626a-94eb-48c7-a23c-fafa540f08aa",
        "colab": {}
      },
      "source": [
        "from samples.my_module import *\n",
        "\n",
        "external_func()"
      ],
      "execution_count": 0,
      "outputs": [
        {
          "output_type": "execute_result",
          "data": {
            "text/plain": [
              "23"
            ]
          },
          "metadata": {
            "tags": []
          },
          "execution_count": 5
        }
      ]
    },
    {
      "cell_type": "code",
      "metadata": {
        "id": "KMfxStrq555R",
        "colab_type": "code",
        "outputId": "2f2f912e-55a4-4a1f-8887-c784de9c6305",
        "colab": {}
      },
      "source": [
        "_internal_func()"
      ],
      "execution_count": 0,
      "outputs": [
        {
          "output_type": "error",
          "ename": "NameError",
          "evalue": "name '_internal_func' is not defined",
          "traceback": [
            "\u001b[0;31m---------------------------------------------------------------------------\u001b[0m",
            "\u001b[0;31mNameError\u001b[0m                                 Traceback (most recent call last)",
            "\u001b[0;32m<ipython-input-6-3757d8ee357f>\u001b[0m in \u001b[0;36m<module>\u001b[0;34m()\u001b[0m\n\u001b[0;32m----> 1\u001b[0;31m \u001b[0m_internal_func\u001b[0m\u001b[0;34m(\u001b[0m\u001b[0;34m)\u001b[0m\u001b[0;34m\u001b[0m\u001b[0m\n\u001b[0m",
            "\u001b[0;31mNameError\u001b[0m: name '_internal_func' is not defined"
          ]
        }
      ]
    },
    {
      "cell_type": "markdown",
      "metadata": {
        "id": "yEOHeObz555V",
        "colab_type": "text"
      },
      "source": [
        " "
      ]
    },
    {
      "cell_type": "markdown",
      "metadata": {
        "id": "VXsoAPBc555X",
        "colab_type": "text"
      },
      "source": [
        "- It’s better to stick\n",
        "to regular imports for the sake of clarity."
      ]
    },
    {
      "cell_type": "code",
      "metadata": {
        "id": "Gm0dED_s555X",
        "colab_type": "code",
        "outputId": "4f335eb6-fbcd-4f14-a029-f83044f6338c",
        "colab": {}
      },
      "source": [
        "import samples.my_module\n",
        "\n",
        "samples.my_module.external_func()"
      ],
      "execution_count": 0,
      "outputs": [
        {
          "output_type": "execute_result",
          "data": {
            "text/plain": [
              "23"
            ]
          },
          "metadata": {
            "tags": []
          },
          "execution_count": 8
        }
      ]
    },
    {
      "cell_type": "code",
      "metadata": {
        "id": "BI2vueYE555a",
        "colab_type": "code",
        "outputId": "e3bbd909-58e3-4ca3-8691-43922af95215",
        "colab": {}
      },
      "source": [
        "samples.my_module._internal_func()"
      ],
      "execution_count": 0,
      "outputs": [
        {
          "output_type": "execute_result",
          "data": {
            "text/plain": [
              "42"
            ]
          },
          "metadata": {
            "tags": []
          },
          "execution_count": 9
        }
      ]
    },
    {
      "cell_type": "markdown",
      "metadata": {
        "id": "_eJIda7X555c",
        "colab_type": "text"
      },
      "source": [
        " "
      ]
    },
    {
      "cell_type": "markdown",
      "metadata": {
        "id": "Qn5Jifoj555d",
        "colab_type": "text"
      },
      "source": [
        "### 2.4.2 Single underscore suffix: var_\n",
        "\n",
        "- Sometimes the best name for a variable is already used as a keyword in Python.\n",
        "    - For example, `def` or` class` cannot be used as variable names in Python.\n",
        "\n",
        "    \n",
        "    \n",
        "- This can be solved by adding an underscore `_` after the variable."
      ]
    },
    {
      "cell_type": "code",
      "metadata": {
        "id": "eJH9oqUV555e",
        "colab_type": "code",
        "outputId": "53fb0430-0359-4efa-b776-e7a489fe886a",
        "colab": {
          "base_uri": "https://localhost:8080/",
          "height": 129
        }
      },
      "source": [
        "def make_object(name, class):\n",
        "    pass"
      ],
      "execution_count": 0,
      "outputs": [
        {
          "output_type": "error",
          "ename": "SyntaxError",
          "evalue": "ignored",
          "traceback": [
            "\u001b[0;36m  File \u001b[0;32m\"<ipython-input-3-88a174f47223>\"\u001b[0;36m, line \u001b[0;32m1\u001b[0m\n\u001b[0;31m    def make_object(name, class):\u001b[0m\n\u001b[0m                              ^\u001b[0m\n\u001b[0;31mSyntaxError\u001b[0m\u001b[0;31m:\u001b[0m invalid syntax\n"
          ]
        }
      ]
    },
    {
      "cell_type": "code",
      "metadata": {
        "id": "0_tEFsKD555g",
        "colab_type": "code",
        "colab": {}
      },
      "source": [
        "def make_object(name, class_):\n",
        "    pass"
      ],
      "execution_count": 0,
      "outputs": []
    },
    {
      "cell_type": "markdown",
      "metadata": {
        "id": "XBzuhhCS555i",
        "colab_type": "text"
      },
      "source": [
        " "
      ]
    },
    {
      "cell_type": "markdown",
      "metadata": {
        "id": "nD1ZYeFu555j",
        "colab_type": "text"
      },
      "source": [
        "### 2.4.3 Double underscore prefix: `__var`\n",
        "\n",
        "\n",
        "- The double underscore prefix causes the Python interpreter to rewrite attribute names to avoid name conflicts in subclasses. Name mangling\n",
        "\n",
        "- The interpreter changes the variable names so that conflicts do not occur when the class is extended later."
      ]
    },
    {
      "cell_type": "code",
      "metadata": {
        "id": "VQJUXXDi555k",
        "colab_type": "code",
        "colab": {}
      },
      "source": [
        "class Test:\n",
        "    def __init__(self):\n",
        "        self.foo = 11\n",
        "        self._bar = 23\n",
        "        self.__baz = 42"
      ],
      "execution_count": 0,
      "outputs": []
    },
    {
      "cell_type": "code",
      "metadata": {
        "id": "-2W2Ukv4555n",
        "colab_type": "code",
        "outputId": "3e52f8d6-17e5-4b06-f3d2-4162fde6d353",
        "colab": {
          "base_uri": "https://localhost:8080/",
          "height": 510
        }
      },
      "source": [
        "t = Test()\n",
        "dir(t)"
      ],
      "execution_count": 0,
      "outputs": [
        {
          "output_type": "execute_result",
          "data": {
            "text/plain": [
              "['_Test__baz',\n",
              " '__class__',\n",
              " '__delattr__',\n",
              " '__dict__',\n",
              " '__dir__',\n",
              " '__doc__',\n",
              " '__eq__',\n",
              " '__format__',\n",
              " '__ge__',\n",
              " '__getattribute__',\n",
              " '__gt__',\n",
              " '__hash__',\n",
              " '__init__',\n",
              " '__init_subclass__',\n",
              " '__le__',\n",
              " '__lt__',\n",
              " '__module__',\n",
              " '__ne__',\n",
              " '__new__',\n",
              " '__reduce__',\n",
              " '__reduce_ex__',\n",
              " '__repr__',\n",
              " '__setattr__',\n",
              " '__sizeof__',\n",
              " '__str__',\n",
              " '__subclasshook__',\n",
              " '__weakref__',\n",
              " '_bar',\n",
              " 'foo']"
            ]
          },
          "metadata": {
            "tags": []
          },
          "execution_count": 6
        }
      ]
    },
    {
      "cell_type": "markdown",
      "metadata": {
        "id": "gkeTEPih555q",
        "colab_type": "text"
      },
      "source": [
        " "
      ]
    },
    {
      "cell_type": "markdown",
      "metadata": {
        "id": "EbJBA_iJ555r",
        "colab_type": "text"
      },
      "source": [
        "\n",
        "\n",
        "\n",
        "- In the example above, let's look at the properties of the `Test` object using the` dir () `function.\n",
        "    - `foo` and` _bar` are printed as original variable names.\n",
        "    - `__baz` is mangled to redefine the variable` _Test__baz`.\n",
        "    \n",
        "    \n",
        "\n",
        "- The following example redefines an existing variable (attribute) in `ExtendedTest` which inherits` Test`.\n",
        "\n",
        "- As you can see from the output below, it doesn't have the property `__baz` because the nail mangling changed` __baz` to `_Test__baz`."
      ]
    },
    {
      "cell_type": "code",
      "metadata": {
        "id": "SsZm53xg555t",
        "colab_type": "code",
        "colab": {}
      },
      "source": [
        "class ExtendedTest(Test):\n",
        "    def __init__(self):\n",
        "        super().__init__()\n",
        "        self.foo = 'overridden'\n",
        "        self._bar = 'overridden'\n",
        "        self.__baz = 'overriden'"
      ],
      "execution_count": 0,
      "outputs": []
    },
    {
      "cell_type": "code",
      "metadata": {
        "id": "4W2XeJzz555x",
        "colab_type": "code",
        "outputId": "beee8842-ed3b-42cd-819e-50f505a97697",
        "colab": {
          "base_uri": "https://localhost:8080/",
          "height": 34
        }
      },
      "source": [
        "t2 = ExtendedTest()\n",
        "t2.foo"
      ],
      "execution_count": 0,
      "outputs": [
        {
          "output_type": "execute_result",
          "data": {
            "text/plain": [
              "'overridden'"
            ]
          },
          "metadata": {
            "tags": []
          },
          "execution_count": 8
        }
      ]
    },
    {
      "cell_type": "code",
      "metadata": {
        "id": "FcsjYLyN5550",
        "colab_type": "code",
        "outputId": "a1a283dc-b705-40b4-8421-1c96d4efe296",
        "colab": {
          "base_uri": "https://localhost:8080/",
          "height": 34
        }
      },
      "source": [
        "t2._bar"
      ],
      "execution_count": 0,
      "outputs": [
        {
          "output_type": "execute_result",
          "data": {
            "text/plain": [
              "'overridden'"
            ]
          },
          "metadata": {
            "tags": []
          },
          "execution_count": 9
        }
      ]
    },
    {
      "cell_type": "code",
      "metadata": {
        "id": "b5P8WuHb5553",
        "colab_type": "code",
        "outputId": "3de3bb20-0f06-459b-d564-ef6093e0a464",
        "colab": {
          "base_uri": "https://localhost:8080/",
          "height": 163
        }
      },
      "source": [
        "t2.__baz"
      ],
      "execution_count": 0,
      "outputs": [
        {
          "output_type": "error",
          "ename": "AttributeError",
          "evalue": "ignored",
          "traceback": [
            "\u001b[0;31m---------------------------------------------------------------------------\u001b[0m",
            "\u001b[0;31mAttributeError\u001b[0m                            Traceback (most recent call last)",
            "\u001b[0;32m<ipython-input-10-ce8e845954f0>\u001b[0m in \u001b[0;36m<module>\u001b[0;34m()\u001b[0m\n\u001b[0;32m----> 1\u001b[0;31m \u001b[0mt2\u001b[0m\u001b[0;34m.\u001b[0m\u001b[0m__baz\u001b[0m\u001b[0;34m\u001b[0m\u001b[0;34m\u001b[0m\u001b[0m\n\u001b[0m",
            "\u001b[0;31mAttributeError\u001b[0m: 'ExtendedTest' object has no attribute '__baz'"
          ]
        }
      ]
    },
    {
      "cell_type": "code",
      "metadata": {
        "id": "Hv8InTvM5556",
        "colab_type": "code",
        "outputId": "5685ef35-760e-4652-86c0-3dfedb2e9367",
        "colab": {
          "base_uri": "https://localhost:8080/",
          "height": 527
        }
      },
      "source": [
        "dir(t2)"
      ],
      "execution_count": 0,
      "outputs": [
        {
          "output_type": "execute_result",
          "data": {
            "text/plain": [
              "['_ExtendedTest__baz',\n",
              " '_Test__baz',\n",
              " '__class__',\n",
              " '__delattr__',\n",
              " '__dict__',\n",
              " '__dir__',\n",
              " '__doc__',\n",
              " '__eq__',\n",
              " '__format__',\n",
              " '__ge__',\n",
              " '__getattribute__',\n",
              " '__gt__',\n",
              " '__hash__',\n",
              " '__init__',\n",
              " '__init_subclass__',\n",
              " '__le__',\n",
              " '__lt__',\n",
              " '__module__',\n",
              " '__ne__',\n",
              " '__new__',\n",
              " '__reduce__',\n",
              " '__reduce_ex__',\n",
              " '__repr__',\n",
              " '__setattr__',\n",
              " '__sizeof__',\n",
              " '__str__',\n",
              " '__subclasshook__',\n",
              " '__weakref__',\n",
              " '_bar',\n",
              " 'foo']"
            ]
          },
          "metadata": {
            "tags": []
          },
          "execution_count": 11
        }
      ]
    },
    {
      "cell_type": "code",
      "metadata": {
        "id": "oOIKyJq_555-",
        "colab_type": "code",
        "outputId": "bb45354b-e571-4dcc-a017-1b0735065c12",
        "colab": {
          "base_uri": "https://localhost:8080/",
          "height": 34
        }
      },
      "source": [
        "t2._ExtendedTest__baz"
      ],
      "execution_count": 0,
      "outputs": [
        {
          "output_type": "execute_result",
          "data": {
            "text/plain": [
              "'overriden'"
            ]
          },
          "metadata": {
            "tags": []
          },
          "execution_count": 12
        }
      ]
    },
    {
      "cell_type": "code",
      "metadata": {
        "id": "oirXttSy556A",
        "colab_type": "code",
        "outputId": "d9c36e5d-899c-4ffc-885e-f936a406717e",
        "colab": {
          "base_uri": "https://localhost:8080/",
          "height": 34
        }
      },
      "source": [
        "t2._Test__baz"
      ],
      "execution_count": 0,
      "outputs": [
        {
          "output_type": "execute_result",
          "data": {
            "text/plain": [
              "42"
            ]
          },
          "metadata": {
            "tags": []
          },
          "execution_count": 13
        }
      ]
    },
    {
      "cell_type": "markdown",
      "metadata": {
        "id": "NU_GQ5Ht556C",
        "colab_type": "text"
      },
      "source": [
        " "
      ]
    },
    {
      "cell_type": "markdown",
      "metadata": {
        "id": "T5qfh9jW556F",
        "colab_type": "text"
      },
      "source": [
        "- Name mangling due to the double underscore prefix is ​​automatic without notifying the programmer."
      ]
    },
    {
      "cell_type": "code",
      "metadata": {
        "id": "qdzoTosW556F",
        "colab_type": "code",
        "colab": {}
      },
      "source": [
        "class ManglingTest:\n",
        "    def __init__(self):\n",
        "        self.__mangled = 'hello'\n",
        "        \n",
        "    def get_mangled(self):\n",
        "        return self.__mangled "
      ],
      "execution_count": 0,
      "outputs": []
    },
    {
      "cell_type": "code",
      "metadata": {
        "id": "OwclsXQZ556I",
        "colab_type": "code",
        "outputId": "3512b769-591d-4152-ca33-13969c17e72b",
        "colab": {
          "base_uri": "https://localhost:8080/",
          "height": 34
        }
      },
      "source": [
        "ManglingTest().get_mangled()"
      ],
      "execution_count": 0,
      "outputs": [
        {
          "output_type": "execute_result",
          "data": {
            "text/plain": [
              "'hello'"
            ]
          },
          "metadata": {
            "tags": []
          },
          "execution_count": 15
        }
      ]
    },
    {
      "cell_type": "code",
      "metadata": {
        "id": "S5jzhlWn556O",
        "colab_type": "code",
        "outputId": "7fb0ef11-a6c9-45da-cd2f-a5839e627927",
        "colab": {
          "base_uri": "https://localhost:8080/",
          "height": 163
        }
      },
      "source": [
        "ManglingTest().__mangled"
      ],
      "execution_count": 0,
      "outputs": [
        {
          "output_type": "error",
          "ename": "AttributeError",
          "evalue": "ignored",
          "traceback": [
            "\u001b[0;31m---------------------------------------------------------------------------\u001b[0m",
            "\u001b[0;31mAttributeError\u001b[0m                            Traceback (most recent call last)",
            "\u001b[0;32m<ipython-input-16-14d8b1db7c4f>\u001b[0m in \u001b[0;36m<module>\u001b[0;34m()\u001b[0m\n\u001b[0;32m----> 1\u001b[0;31m \u001b[0mManglingTest\u001b[0m\u001b[0;34m(\u001b[0m\u001b[0;34m)\u001b[0m\u001b[0;34m.\u001b[0m\u001b[0m__mangled\u001b[0m\u001b[0;34m\u001b[0m\u001b[0;34m\u001b[0m\u001b[0m\n\u001b[0m",
            "\u001b[0;31mAttributeError\u001b[0m: 'ManglingTest' object has no attribute '__mangled'"
          ]
        }
      ]
    },
    {
      "cell_type": "markdown",
      "metadata": {
        "id": "HUJm-Uwu556R",
        "colab_type": "text"
      },
      "source": [
        " "
      ]
    },
    {
      "cell_type": "markdown",
      "metadata": {
        "id": "Gixq2hER556S",
        "colab_type": "text"
      },
      "source": [
        "- Name mangling also applies to method names."
      ]
    },
    {
      "cell_type": "code",
      "metadata": {
        "id": "qZ9BOb4z556V",
        "colab_type": "code",
        "colab": {}
      },
      "source": [
        "class MangledMethod:\n",
        "    def __method(self):\n",
        "        return 42\n",
        "    \n",
        "    def call_it(self):\n",
        "        return self.__method()"
      ],
      "execution_count": 0,
      "outputs": []
    },
    {
      "cell_type": "code",
      "metadata": {
        "id": "hbqipxXw556a",
        "colab_type": "code",
        "outputId": "b7ccc72b-ec6a-4594-825c-0a4bfd447c24",
        "colab": {
          "base_uri": "https://localhost:8080/",
          "height": 34
        }
      },
      "source": [
        "MangledMethod().call_it()"
      ],
      "execution_count": 0,
      "outputs": [
        {
          "output_type": "execute_result",
          "data": {
            "text/plain": [
              "42"
            ]
          },
          "metadata": {
            "tags": []
          },
          "execution_count": 18
        }
      ]
    },
    {
      "cell_type": "code",
      "metadata": {
        "id": "8hPkUPD0556d",
        "colab_type": "code",
        "outputId": "e804a5bf-f095-4e9a-d632-2a2be255d2d2",
        "colab": {
          "base_uri": "https://localhost:8080/",
          "height": 163
        }
      },
      "source": [
        "MangledMethod().__method()"
      ],
      "execution_count": 0,
      "outputs": [
        {
          "output_type": "error",
          "ename": "AttributeError",
          "evalue": "ignored",
          "traceback": [
            "\u001b[0;31m---------------------------------------------------------------------------\u001b[0m",
            "\u001b[0;31mAttributeError\u001b[0m                            Traceback (most recent call last)",
            "\u001b[0;32m<ipython-input-19-3a27f66f344d>\u001b[0m in \u001b[0;36m<module>\u001b[0;34m()\u001b[0m\n\u001b[0;32m----> 1\u001b[0;31m \u001b[0mMangledMethod\u001b[0m\u001b[0;34m(\u001b[0m\u001b[0;34m)\u001b[0m\u001b[0;34m.\u001b[0m\u001b[0m__method\u001b[0m\u001b[0;34m(\u001b[0m\u001b[0;34m)\u001b[0m\u001b[0;34m\u001b[0m\u001b[0;34m\u001b[0m\u001b[0m\n\u001b[0m",
            "\u001b[0;31mAttributeError\u001b[0m: 'MangledMethod' object has no attribute '__method'"
          ]
        }
      ]
    },
    {
      "cell_type": "markdown",
      "metadata": {
        "id": "vZO8jnOR556h",
        "colab_type": "text"
      },
      "source": [
        " "
      ]
    },
    {
      "cell_type": "markdown",
      "metadata": {
        "id": "mqm4nllF556j",
        "colab_type": "text"
      },
      "source": [
        "- Here is an interesting mangling example:"
      ]
    },
    {
      "cell_type": "code",
      "metadata": {
        "id": "Q7K7y5QB556k",
        "colab_type": "code",
        "colab": {}
      },
      "source": [
        "_MangledGlobal__mangled = 23\n",
        "\n",
        "class MangledGlobal:\n",
        "    def test(self):\n",
        "        return __mangled"
      ],
      "execution_count": 0,
      "outputs": []
    },
    {
      "cell_type": "code",
      "metadata": {
        "id": "jTBnnz_F556m",
        "colab_type": "code",
        "outputId": "4d6f9865-9108-49f6-9df8-29fa23233aef",
        "colab": {
          "base_uri": "https://localhost:8080/",
          "height": 34
        }
      },
      "source": [
        "MangledGlobal().test()"
      ],
      "execution_count": 0,
      "outputs": [
        {
          "output_type": "execute_result",
          "data": {
            "text/plain": [
              "23"
            ]
          },
          "metadata": {
            "tags": []
          },
          "execution_count": 22
        }
      ]
    },
    {
      "cell_type": "markdown",
      "metadata": {
        "id": "IR-u8RQf556o",
        "colab_type": "text"
      },
      "source": [
        " "
      ]
    },
    {
      "cell_type": "markdown",
      "metadata": {
        "id": "09PPGEgC556o",
        "colab_type": "text"
      },
      "source": [
        "- The Python interpreter automatically expanded the name `__mangled`\n",
        "to `_MangledGlobal__mangled` because it begins with two underscore\n",
        "characters. This\n",
        "\n",
        "- \n",
        "In the example above, you can see that name mangling is not limited to class attributes."
      ]
    },
    {
      "cell_type": "markdown",
      "metadata": {
        "id": "oTu9P0zI556p",
        "colab_type": "text"
      },
      "source": [
        " "
      ]
    },
    {
      "cell_type": "markdown",
      "metadata": {
        "id": "ThiGZTw5556q",
        "colab_type": "text"
      },
      "source": [
        "### 2.4.4 Double underscore prefix and suffix: __var__\n",
        "\n",
        "\n",
        "- The form of `__var__` does not apply to name mangling.\n",
        "\n",
        "- The `__var__` construct is used for special purposes, such as` __init__` which defines an object constructor, and `__call__` which enables object calls."
      ]
    },
    {
      "cell_type": "code",
      "metadata": {
        "id": "t5naA65H556r",
        "colab_type": "code",
        "colab": {}
      },
      "source": [
        "class PrefixPostfixTest:\n",
        "    def __init__(self):\n",
        "        self.__bam__ = 42"
      ],
      "execution_count": 0,
      "outputs": []
    },
    {
      "cell_type": "code",
      "metadata": {
        "id": "9MaZCTun556s",
        "colab_type": "code",
        "outputId": "a93dc968-e3b2-4941-ac6b-2bac844403ea",
        "colab": {
          "base_uri": "https://localhost:8080/",
          "height": 34
        }
      },
      "source": [
        "PrefixPostfixTest().__bam__"
      ],
      "execution_count": 0,
      "outputs": [
        {
          "output_type": "execute_result",
          "data": {
            "text/plain": [
              "42"
            ]
          },
          "metadata": {
            "tags": []
          },
          "execution_count": 24
        }
      ]
    },
    {
      "cell_type": "markdown",
      "metadata": {
        "id": "5B4mhvrW556u",
        "colab_type": "text"
      },
      "source": [
        "  "
      ]
    },
    {
      "cell_type": "markdown",
      "metadata": {
        "id": "gtdKKQ3a556v",
        "colab_type": "text"
      },
      "source": [
        "### 2.4.5 Single Underscore: “_”\n",
        "\n",
        "\n",
        "- Use the underscore character `_` as a customary expression to indicate that a variable is temporary or not important."
      ]
    },
    {
      "cell_type": "code",
      "metadata": {
        "id": "u3YuJiQw556v",
        "colab_type": "code",
        "outputId": "4b3c1068-9738-4148-fb37-dfbe28f6ebde",
        "colab": {
          "base_uri": "https://localhost:8080/",
          "height": 102
        }
      },
      "source": [
        "for _ in range(5):\n",
        "    print('hello, world')"
      ],
      "execution_count": 0,
      "outputs": [
        {
          "output_type": "stream",
          "text": [
            "hello, world\n",
            "hello, world\n",
            "hello, world\n",
            "hello, world\n",
            "hello, world\n"
          ],
          "name": "stdout"
        }
      ]
    },
    {
      "cell_type": "markdown",
      "metadata": {
        "id": "ejRLQ5hZ556x",
        "colab_type": "text"
      },
      "source": [
        " "
      ]
    },
    {
      "cell_type": "markdown",
      "metadata": {
        "id": "_cOPf9K9556x",
        "colab_type": "text"
      },
      "source": [
        "- In unpacking, the underscore character _ can be used to ignore certain values."
      ]
    },
    {
      "cell_type": "code",
      "metadata": {
        "id": "ZcHbOF5N556y",
        "colab_type": "code",
        "colab": {}
      },
      "source": [
        "car = ('red', 'auto', 12, 3812.4)\n",
        "\n",
        "color, _, _, mileage = car"
      ],
      "execution_count": 0,
      "outputs": []
    },
    {
      "cell_type": "code",
      "metadata": {
        "id": "HRShdD6u5561",
        "colab_type": "code",
        "outputId": "a183f85b-e1a0-494e-cfe4-ce40a9a36fd9",
        "colab": {
          "base_uri": "https://localhost:8080/",
          "height": 34
        }
      },
      "source": [
        "color"
      ],
      "execution_count": 0,
      "outputs": [
        {
          "output_type": "execute_result",
          "data": {
            "text/plain": [
              "'red'"
            ]
          },
          "metadata": {
            "tags": []
          },
          "execution_count": 27
        }
      ]
    },
    {
      "cell_type": "code",
      "metadata": {
        "id": "VqGYUNN-5563",
        "colab_type": "code",
        "outputId": "68e377c3-8b2e-419c-a407-36e5b0be6f0a",
        "colab": {
          "base_uri": "https://localhost:8080/",
          "height": 34
        }
      },
      "source": [
        "mileage"
      ],
      "execution_count": 0,
      "outputs": [
        {
          "output_type": "execute_result",
          "data": {
            "text/plain": [
              "3812.4"
            ]
          },
          "metadata": {
            "tags": []
          },
          "execution_count": 28
        }
      ]
    },
    {
      "cell_type": "markdown",
      "metadata": {
        "id": "7Rswti2A5565",
        "colab_type": "text"
      },
      "source": [
        " "
      ]
    },
    {
      "cell_type": "markdown",
      "metadata": {
        "id": "QwCza5j65565",
        "colab_type": "text"
      },
      "source": [
        "- _ Can be used as a special variable to represent the result of the last expression found by the interpreter.\n",
        "    - This is useful if you are working in an interpreter session and want to access previous calculation results."
      ]
    },
    {
      "cell_type": "code",
      "metadata": {
        "id": "pgSoaOGV5565",
        "colab_type": "code",
        "outputId": "f649986e-0b74-4ca5-897e-08565d4b184d",
        "colab": {
          "base_uri": "https://localhost:8080/",
          "height": 34
        }
      },
      "source": [
        "20 + 3"
      ],
      "execution_count": 0,
      "outputs": [
        {
          "output_type": "execute_result",
          "data": {
            "text/plain": [
              "23"
            ]
          },
          "metadata": {
            "tags": []
          },
          "execution_count": 29
        }
      ]
    },
    {
      "cell_type": "code",
      "metadata": {
        "id": "A8_qZHEP5568",
        "colab_type": "code",
        "outputId": "e1bcc503-f4c9-4135-ec3b-932a71d5210c",
        "colab": {
          "base_uri": "https://localhost:8080/",
          "height": 34
        }
      },
      "source": [
        "_"
      ],
      "execution_count": 0,
      "outputs": [
        {
          "output_type": "execute_result",
          "data": {
            "text/plain": [
              "23"
            ]
          },
          "metadata": {
            "tags": []
          },
          "execution_count": 30
        }
      ]
    },
    {
      "cell_type": "markdown",
      "metadata": {
        "id": "w2vYlLtB556_",
        "colab_type": "text"
      },
      "source": [
        " "
      ]
    },
    {
      "cell_type": "markdown",
      "metadata": {
        "id": "03izluSp557A",
        "colab_type": "text"
      },
      "source": [
        "- 또한, 즉석에서 객체를 생성했는데 이름을 지정하지 않고 사용할 경우도 가능하다."
      ]
    },
    {
      "cell_type": "code",
      "metadata": {
        "id": "F1NHUUbu557A",
        "colab_type": "code",
        "outputId": "4454836d-1d3b-4228-f29f-105d664d378b",
        "colab": {}
      },
      "source": [
        "list()"
      ],
      "execution_count": 0,
      "outputs": [
        {
          "output_type": "execute_result",
          "data": {
            "text/plain": [
              "[]"
            ]
          },
          "metadata": {
            "tags": []
          },
          "execution_count": 5
        }
      ]
    },
    {
      "cell_type": "code",
      "metadata": {
        "id": "kWdtFGZM557C",
        "colab_type": "code",
        "colab": {}
      },
      "source": [
        "_.append(1)\n",
        "_.append(2)\n",
        "_.append(3)"
      ],
      "execution_count": 0,
      "outputs": []
    },
    {
      "cell_type": "code",
      "metadata": {
        "id": "3rc0xfub557D",
        "colab_type": "code",
        "outputId": "7015a9ff-0405-48bf-c83a-3023efb50867",
        "colab": {}
      },
      "source": [
        "_"
      ],
      "execution_count": 0,
      "outputs": [
        {
          "output_type": "execute_result",
          "data": {
            "text/plain": [
              "[1, 2, 3]"
            ]
          },
          "metadata": {
            "tags": []
          },
          "execution_count": 7
        }
      ]
    },
    {
      "cell_type": "markdown",
      "metadata": {
        "id": "EyQipf9e557E",
        "colab_type": "text"
      },
      "source": [
        " - Single Leading Underscore `_var`: Naming convention indicating\n",
        "a name is meant for internal use. Generally not enforced\n",
        "by the Python interpreter (except in wildcard imports)\n",
        "and meant as a hint to the programmer only.\n",
        "\n",
        "- Single Trailing Underscore `var_`: Used by convention to\n",
        "avoid naming conflicts with Python keywords.\n",
        "\n",
        "- Double Leading Underscore `__var`: Triggers name mangling\n",
        "when used in a class context. Enforced by the Python interpreter.\n",
        "\n",
        "- Double Leading and Trailing Underscore `__var__`: Indicates\n",
        "special methods defined by the Python language. Avoid\n",
        "this naming scheme for your own attributes\n",
        "\n",
        "- Single Underscore `_`: Sometimes used as a name for temporary\n",
        "or insignificant variables (“don’t care”). Also, it represents\n",
        "the result of the last expression in a Python REPL session.\n"
      ]
    },
    {
      "cell_type": "markdown",
      "metadata": {
        "id": "kJyRNu4k557F",
        "colab_type": "text"
      },
      "source": [
        "## 2.5 String formatting\n",
        "\n",
        "- In Python, there are four ways to format strings."
      ]
    },
    {
      "cell_type": "code",
      "metadata": {
        "id": "M_YQY9ps557G",
        "colab_type": "code",
        "colab": {}
      },
      "source": [
        "errno = 50159747054\n",
        "name = 'Bob'"
      ],
      "execution_count": 0,
      "outputs": []
    },
    {
      "cell_type": "markdown",
      "metadata": {
        "id": "wexOaXfO557H",
        "colab_type": "text"
      },
      "source": [
        " "
      ]
    },
    {
      "cell_type": "markdown",
      "metadata": {
        "id": "9y8OLNIL557I",
        "colab_type": "text"
      },
      "source": [
        "### 2.5.1 'Old' string formatting\n",
        "\n",
        "- Like the C language, Python also supports the `%` operator. → See [Link] (https://docs.python.org/3/library/stdtypes.html#old-string-formatting)"
      ]
    },
    {
      "cell_type": "code",
      "metadata": {
        "id": "SgmnhI52557I",
        "colab_type": "code",
        "outputId": "5fb89c8e-8b00-4339-b9dd-36b89f2b2177",
        "colab": {
          "base_uri": "https://localhost:8080/",
          "height": 34
        }
      },
      "source": [
        "'Hello, %s' % name"
      ],
      "execution_count": 0,
      "outputs": [
        {
          "output_type": "execute_result",
          "data": {
            "text/plain": [
              "'Hello, Bob'"
            ]
          },
          "metadata": {
            "tags": []
          },
          "execution_count": 32
        }
      ]
    },
    {
      "cell_type": "code",
      "metadata": {
        "id": "WXq2PY4h557K",
        "colab_type": "code",
        "outputId": "e66ea4a0-a091-45c7-c75c-4c149656c102",
        "colab": {
          "base_uri": "https://localhost:8080/",
          "height": 34
        }
      },
      "source": [
        "'%x' % errno"
      ],
      "execution_count": 0,
      "outputs": [
        {
          "output_type": "execute_result",
          "data": {
            "text/plain": [
              "'badc0ffee'"
            ]
          },
          "metadata": {
            "tags": []
          },
          "execution_count": 33
        }
      ]
    },
    {
      "cell_type": "markdown",
      "metadata": {
        "id": "6cMIeIxc557L",
        "colab_type": "text"
      },
      "source": [
        " "
      ]
    },
    {
      "cell_type": "markdown",
      "metadata": {
        "id": "ocJvbt-m557L",
        "colab_type": "text"
      },
      "source": [
        "- The “old style” string formatting syntax changes slightly if you want to\n",
        "make multiple substitutions in a single string. Because the %-operator\n",
        "only takes one argument, you need to wrap the right-hand side in a\n",
        "tuple, like so:"
      ]
    },
    {
      "cell_type": "code",
      "metadata": {
        "id": "gvQmRj4i557N",
        "colab_type": "code",
        "outputId": "066c4a57-4841-4298-dd65-ea237e9221a5",
        "colab": {
          "base_uri": "https://localhost:8080/",
          "height": 34
        }
      },
      "source": [
        "'Hey %s, there is a 0x%x error!' % (name, errno)"
      ],
      "execution_count": 0,
      "outputs": [
        {
          "output_type": "execute_result",
          "data": {
            "text/plain": [
              "'Hey Bob, there is a 0xbadc0ffee error!'"
            ]
          },
          "metadata": {
            "tags": []
          },
          "execution_count": 34
        }
      ]
    },
    {
      "cell_type": "code",
      "metadata": {
        "id": "sud0TTST557O",
        "colab_type": "code",
        "outputId": "169fca2e-dbde-4f3e-bf7b-2cccdfdfac20",
        "colab": {
          "base_uri": "https://localhost:8080/",
          "height": 34
        }
      },
      "source": [
        "'Hey %(name)s, there is a 0x%(errno)x error!' % {\n",
        "    \"name\": name, \"errno\": errno}"
      ],
      "execution_count": 0,
      "outputs": [
        {
          "output_type": "execute_result",
          "data": {
            "text/plain": [
              "'Hey Bob, there is a 0xbadc0ffee error!'"
            ]
          },
          "metadata": {
            "tags": []
          },
          "execution_count": 35
        }
      ]
    },
    {
      "cell_type": "markdown",
      "metadata": {
        "id": "GHp-Cp7Q557P",
        "colab_type": "text"
      },
      "source": [
        "  "
      ]
    },
    {
      "cell_type": "markdown",
      "metadata": {
        "id": "kW4QdRcW557Q",
        "colab_type": "text"
      },
      "source": [
        "### 2.5.2 'New' string formatting\n",
        "\n",
        "- As of Python3, you can format strings using the `format ()` function (currently also supported in Python2).\n",
        "- See [link] (https://docs.python.org/3/library/stdtypes.html#str.format)"
      ]
    },
    {
      "cell_type": "code",
      "metadata": {
        "id": "ssQnE0LT557Q",
        "colab_type": "code",
        "outputId": "46cc9829-8685-48d8-e600-e0dafead9bea",
        "colab": {
          "base_uri": "https://localhost:8080/",
          "height": 34
        }
      },
      "source": [
        "'Hello, {}'.format(name)"
      ],
      "execution_count": 0,
      "outputs": [
        {
          "output_type": "execute_result",
          "data": {
            "text/plain": [
              "'Hello, Bob'"
            ]
          },
          "metadata": {
            "tags": []
          },
          "execution_count": 36
        }
      ]
    },
    {
      "cell_type": "markdown",
      "metadata": {
        "id": "MTKDWSsD557S",
        "colab_type": "text"
      },
      "source": [
        "- 형식을 지정하려면 변수 이름 뒤에 ':x'와 같이 접미사를 붙이면 된다."
      ]
    },
    {
      "cell_type": "code",
      "metadata": {
        "id": "HSiP8Y9f557S",
        "colab_type": "code",
        "outputId": "c54f2c1b-3d5f-4bda-ff7d-a55937d095e7",
        "colab": {
          "base_uri": "https://localhost:8080/",
          "height": 34
        }
      },
      "source": [
        "'Hey {name1}, there is a 0x{errno1:x} error!'.format(\n",
        "    name1=name, errno1=errno)"
      ],
      "execution_count": 0,
      "outputs": [
        {
          "output_type": "execute_result",
          "data": {
            "text/plain": [
              "'Hey Bob, there is a 0xbadc0ffee error!'"
            ]
          },
          "metadata": {
            "tags": []
          },
          "execution_count": 40
        }
      ]
    },
    {
      "cell_type": "markdown",
      "metadata": {
        "id": "l9eHi4WL557U",
        "colab_type": "text"
      },
      "source": [
        " "
      ]
    },
    {
      "cell_type": "markdown",
      "metadata": {
        "id": "dLWk2hXP557U",
        "colab_type": "text"
      },
      "source": [
        "### 2.5.3 Literal string interpolation (Python3.6 and later)\n",
        "\n",
        "- Formatted string literals allow you to use Python expressions inside string constants."
      ]
    },
    {
      "cell_type": "code",
      "metadata": {
        "id": "OShWjb3T557V",
        "colab_type": "code",
        "outputId": "02c6c839-4b54-47c4-d838-33425f9406df",
        "colab": {
          "base_uri": "https://localhost:8080/",
          "height": 34
        }
      },
      "source": [
        "f'Hello, {name}'"
      ],
      "execution_count": 0,
      "outputs": [
        {
          "output_type": "execute_result",
          "data": {
            "text/plain": [
              "'Hello, Bob'"
            ]
          },
          "metadata": {
            "tags": []
          },
          "execution_count": 41
        }
      ]
    },
    {
      "cell_type": "markdown",
      "metadata": {
        "id": "Bv3hS_mG557W",
        "colab_type": "text"
      },
      "source": [
        " "
      ]
    },
    {
      "cell_type": "markdown",
      "metadata": {
        "id": "-PGqlV9v557Y",
        "colab_type": "text"
      },
      "source": [
        "- Since you can embed Python expressions, you can also perform arithmetic operations like this:"
      ]
    },
    {
      "cell_type": "code",
      "metadata": {
        "id": "vC1-aGZ2557Y",
        "colab_type": "code",
        "colab": {}
      },
      "source": [
        "a = 5\n",
        "b = 10"
      ],
      "execution_count": 0,
      "outputs": []
    },
    {
      "cell_type": "code",
      "metadata": {
        "id": "XNX0E_QN557b",
        "colab_type": "code",
        "outputId": "c211df40-a179-478a-d888-2d85d961b19d",
        "colab": {
          "base_uri": "https://localhost:8080/",
          "height": 34
        }
      },
      "source": [
        "f'Five plus ten is {a + b} and not {2 * (a + b)}.'"
      ],
      "execution_count": 0,
      "outputs": [
        {
          "output_type": "execute_result",
          "data": {
            "text/plain": [
              "'Five plus ten is 15 and not 30.'"
            ]
          },
          "metadata": {
            "tags": []
          },
          "execution_count": 43
        }
      ]
    },
    {
      "cell_type": "markdown",
      "metadata": {
        "id": "in98rb6s557e",
        "colab_type": "text"
      },
      "source": [
        " "
      ]
    },
    {
      "cell_type": "markdown",
      "metadata": {
        "id": "bAkY3P4_557e",
        "colab_type": "text"
      },
      "source": [
        "- String literals also support the existing format string syntax of the\n",
        "str.format() method. see [link] (https://docs.python.org/3/reference/lexical_analysis.html#f-strings) "
      ]
    },
    {
      "cell_type": "code",
      "metadata": {
        "id": "ITmmCoVF557f",
        "colab_type": "code",
        "outputId": "ff669611-0b60-425e-b46b-d00730f794dc",
        "colab": {}
      },
      "source": [
        "f\"Hey {name}, there's a {errno:#x} error!\""
      ],
      "execution_count": 0,
      "outputs": [
        {
          "output_type": "execute_result",
          "data": {
            "text/plain": [
              "\"Hey Bob, there's a 0xbadc0ffee error!\""
            ]
          },
          "metadata": {
            "tags": []
          },
          "execution_count": 23
        }
      ]
    },
    {
      "cell_type": "markdown",
      "metadata": {
        "id": "VxDbhNfo557g",
        "colab_type": "text"
      },
      "source": [
        " "
      ]
    },
    {
      "cell_type": "markdown",
      "metadata": {
        "id": "Qd801sa_557g",
        "colab_type": "text"
      },
      "source": [
        "### 2.5.4 Template string"
      ]
    },
    {
      "cell_type": "code",
      "metadata": {
        "id": "3_1_X1S3557h",
        "colab_type": "code",
        "outputId": "02c86b95-55bb-49d1-edac-4497f83ca047",
        "colab": {
          "base_uri": "https://localhost:8080/",
          "height": 34
        }
      },
      "source": [
        "from string import Template\n",
        "\n",
        "t = Template('Hey, $name1!')\n",
        "t.substitute(name1=name)"
      ],
      "execution_count": 0,
      "outputs": [
        {
          "output_type": "execute_result",
          "data": {
            "text/plain": [
              "'Hey, Bob!'"
            ]
          },
          "metadata": {
            "tags": []
          },
          "execution_count": 44
        }
      ]
    },
    {
      "cell_type": "code",
      "metadata": {
        "id": "pbghw-8o557i",
        "colab_type": "code",
        "outputId": "3d725ccd-1020-4cfc-99b3-1adc4929c660",
        "colab": {
          "base_uri": "https://localhost:8080/",
          "height": 34
        }
      },
      "source": [
        "template_string = 'Hey $name, there is a $error error!'\n",
        "Template(template_string).substitute(\n",
        "    name=name, error=hex(errno))"
      ],
      "execution_count": 0,
      "outputs": [
        {
          "output_type": "execute_result",
          "data": {
            "text/plain": [
              "'Hey Bob, there is a 0xbadc0ffee error!'"
            ]
          },
          "metadata": {
            "tags": []
          },
          "execution_count": 45
        }
      ]
    },
    {
      "cell_type": "markdown",
      "metadata": {
        "id": "YSNSFoXv557k",
        "colab_type": "text"
      },
      "source": [
        " "
      ]
    },
    {
      "cell_type": "markdown",
      "metadata": {
        "id": "o9r1CkrO557k",
        "colab_type": "text"
      },
      "source": [
        "### 2.5.5 What string format should I use?\n",
        "\n",
        "- If you are using Python3.6 or higher, it is recommended that you use literal strings.\n",
        "- If your format strings are user-supplied, use Template\n",
        "Strings to avoid security issues. Otherwise, use Literal\n",
        "String Interpolation if you’re on Python 3.6+, and “New\n",
        "Style” String Formatting if you’re not."
      ]
    },
    {
      "cell_type": "markdown",
      "metadata": {
        "id": "8QMqYZAL557n",
        "colab_type": "text"
      },
      "source": [
        " "
      ]
    },
    {
      "cell_type": "markdown",
      "metadata": {
        "id": "i-dya7In557n",
        "colab_type": "text"
      },
      "source": [
        "## 2.6 “The Zen of Python” Easter Egg"
      ]
    },
    {
      "cell_type": "code",
      "metadata": {
        "id": "K7AG1v94557n",
        "colab_type": "code",
        "outputId": "eeb1c75b-9283-4969-da5d-f061f805e9e4",
        "colab": {}
      },
      "source": [
        "import this"
      ],
      "execution_count": 0,
      "outputs": [
        {
          "output_type": "stream",
          "text": [
            "The Zen of Python, by Tim Peters\n",
            "\n",
            "Beautiful is better than ugly.\n",
            "Explicit is better than implicit.\n",
            "Simple is better than complex.\n",
            "Complex is better than complicated.\n",
            "Flat is better than nested.\n",
            "Sparse is better than dense.\n",
            "Readability counts.\n",
            "Special cases aren't special enough to break the rules.\n",
            "Although practicality beats purity.\n",
            "Errors should never pass silently.\n",
            "Unless explicitly silenced.\n",
            "In the face of ambiguity, refuse the temptation to guess.\n",
            "There should be one-- and preferably only one --obvious way to do it.\n",
            "Although that way may not be obvious at first unless you're Dutch.\n",
            "Now is better than never.\n",
            "Although never is often better than *right* now.\n",
            "If the implementation is hard to explain, it's a bad idea.\n",
            "If the implementation is easy to explain, it may be a good idea.\n",
            "Namespaces are one honking great idea -- let's do more of those!\n"
          ],
          "name": "stdout"
        }
      ]
    },
    {
      "cell_type": "code",
      "metadata": {
        "id": "tfoUfYSt557p",
        "colab_type": "code",
        "colab": {}
      },
      "source": [
        ""
      ],
      "execution_count": 0,
      "outputs": []
    }
  ]
}