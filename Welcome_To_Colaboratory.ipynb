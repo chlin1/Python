{
  "nbformat": 4,
  "nbformat_minor": 0,
  "metadata": {
    "colab": {
      "name": "Welcome To Colaboratory",
      "provenance": [],
      "collapsed_sections": [],
      "toc_visible": true,
      "include_colab_link": true
    },
    "kernelspec": {
      "display_name": "Python 3",
      "name": "python3"
    }
  },
  "cells": [
    {
      "cell_type": "markdown",
      "metadata": {
        "id": "view-in-github",
        "colab_type": "text"
      },
      "source": [
        "<a href=\"https://colab.research.google.com/github/chlin1/Python/blob/master/Welcome_To_Colaboratory.ipynb\" target=\"_parent\"><img src=\"https://colab.research.google.com/assets/colab-badge.svg\" alt=\"Open In Colab\"/></a>"
      ]
    },
    {
      "cell_type": "markdown",
      "metadata": {
        "colab_type": "text",
        "id": "5fCEDCU_qrC0"
      },
      "source": [
        "<p><img alt=\"Colaboratory logo\" height=\"45px\" src=\"/img/colab_favicon.ico\" align=\"left\" hspace=\"10px\" vspace=\"0px\"></p>\n",
        "\n",
        "<h1>Welcome to Colaboratory!</h1>\n",
        "\n",
        "\n",
        "Colaboratory is a free Jupyter notebook environment that requires no setup and runs entirely in the cloud.\n",
        "\n",
        "With Colaboratory you can write and execute code, save and share your analyses, and access powerful computing resources, all for free from your browser."
      ]
    },
    {
      "cell_type": "code",
      "metadata": {
        "colab_type": "code",
        "outputId": "ed4f60d2-878d-4056-c438-352dac39a112",
        "id": "Uw8m601ScEtk",
        "colab": {
          "height": 420
        }
      },
      "source": [
        "#@title Introducing Colaboratory { display-mode: \"form\" }\n",
        "#@markdown This 3-minute video gives an overview of the key features of Colaboratory:\n",
        "from IPython.display import YouTubeVideo\n",
        "YouTubeVideo('inN8seMm7UI', width=600, height=400)"
      ],
      "execution_count": 0,
      "outputs": [
        {
          "output_type": "execute_result",
          "data": {
            "text/html": [
              "\n",
              "        <iframe\n",
              "            width=\"600\"\n",
              "            height=\"400\"\n",
              "            src=\"https://www.youtube.com/embed/inN8seMm7UI\"\n",
              "            frameborder=\"0\"\n",
              "            allowfullscreen\n",
              "        ></iframe>\n",
              "        "
            ],
            "text/plain": [
              "<IPython.lib.display.YouTubeVideo at 0x7f956e9dda50>"
            ]
          },
          "metadata": {
            "tags": []
          },
          "execution_count": 0
        }
      ]
    },
    {
      "cell_type": "markdown",
      "metadata": {
        "colab_type": "text",
        "id": "GJBs_flRovLc"
      },
      "source": [
        "## Getting Started\n",
        "\n",
        "The document you are reading is a  [Jupyter notebook](https://jupyter.org/), hosted in Colaboratory. It is not a static page, but an interactive environment that lets you write and execute code in Python and other languages.\n",
        "\n",
        "For example, here is a **code cell** with a short Python script that computes a value, stores it in a variable, and prints the result:"
      ]
    },
    {
      "cell_type": "code",
      "metadata": {
        "colab_type": "code",
        "id": "gJr_9dXGpJ05",
        "outputId": "e35bd2e3-9d90-46a0-c2bb-5d809600374c",
        "colab": {
          "base_uri": "https://localhost:8080/",
          "height": 34
        }
      },
      "source": [
        "seconds_in_a_day = 24 * 60 * 60\n",
        "seconds_in_a_day"
      ],
      "execution_count": 0,
      "outputs": [
        {
          "output_type": "execute_result",
          "data": {
            "text/plain": [
              "86400"
            ]
          },
          "metadata": {
            "tags": []
          },
          "execution_count": 1
        }
      ]
    },
    {
      "cell_type": "markdown",
      "metadata": {
        "colab_type": "text",
        "id": "2fhs6GZ4qFMx"
      },
      "source": [
        "To execute the code in the above cell, select it with a click and then either press the play button to the left of the code, or use the keyboard shortcut \"Command/Ctrl+Enter\".\n",
        "\n",
        "All cells modify the same global state, so variables that you define by executing a cell can be used in other cells:"
      ]
    },
    {
      "cell_type": "code",
      "metadata": {
        "colab_type": "code",
        "id": "-gE-Ez1qtyIA",
        "outputId": "bd6c1de4-df3f-4bfc-9e6b-ea8a828a8d13",
        "colab": {
          "base_uri": "https://localhost:8080/",
          "height": 34
        }
      },
      "source": [
        "seconds_in_a_week = 7 * seconds_in_a_day\n",
        "seconds_in_a_week"
      ],
      "execution_count": 0,
      "outputs": [
        {
          "output_type": "execute_result",
          "data": {
            "text/plain": [
              "604800"
            ]
          },
          "metadata": {
            "tags": []
          },
          "execution_count": 2
        }
      ]
    },
    {
      "cell_type": "markdown",
      "metadata": {
        "colab_type": "text",
        "id": "lSrWNr3MuFUS"
      },
      "source": [
        "For more information about working with Colaboratory notebooks, see [Overview of Colaboratory](/notebooks/basic_features_overview.ipynb).\n"
      ]
    },
    {
      "cell_type": "markdown",
      "metadata": {
        "colab_type": "text",
        "id": "-Rh3-Vt9Nev9"
      },
      "source": [
        "## More Resources\n",
        "\n",
        "Learn how to make the most of Python, Jupyter, Colaboratory, and related tools with these resources:\n",
        "\n",
        "### Working with Notebooks in Colaboratory\n",
        "- [Overview of Colaboratory](/notebooks/basic_features_overview.ipynb)\n",
        "- [Guide to Markdown](/notebooks/markdown_guide.ipynb)\n",
        "- [Importing libraries and installing dependencies](/notebooks/snippets/importing_libraries.ipynb)\n",
        "- [Saving and loading notebooks in GitHub](https://colab.research.google.com/github/googlecolab/colabtools/blob/master/notebooks/colab-github-demo.ipynb)\n",
        "- [Interactive forms](/notebooks/forms.ipynb)\n",
        "- [Interactive widgets](/notebooks/widgets.ipynb)\n",
        "- <img src=\"/img/new.png\" height=\"20px\" align=\"left\" hspace=\"4px\" alt=\"New\"></img>\n",
        " [TensorFlow 2 in Colab](/notebooks/tensorflow_version.ipynb)\n",
        "\n",
        "### Working with Data\n",
        "- [Loading data: Drive, Sheets, and Google Cloud Storage](/notebooks/io.ipynb) \n",
        "- [Charts: visualizing data](/notebooks/charts.ipynb)\n",
        "- [Getting started with BigQuery](/notebooks/bigquery.ipynb)\n",
        "\n",
        "### Machine Learning Crash Course\n",
        "These are a few of the notebooks from Google's online Machine Learning course. See the [full course website](https://developers.google.com/machine-learning/crash-course/) for more.\n",
        "- [Intro to Pandas](/notebooks/mlcc/intro_to_pandas.ipynb)\n",
        "- [Tensorflow concepts](/notebooks/mlcc/tensorflow_programming_concepts.ipynb)\n",
        "- [First steps with TensorFlow](/notebooks/mlcc/first_steps_with_tensor_flow.ipynb)\n",
        "- [Intro to neural nets](/notebooks/mlcc/intro_to_neural_nets.ipynb)\n",
        "- [Intro to sparse data and embeddings](/notebooks/mlcc/intro_to_sparse_data_and_embeddings.ipynb)\n",
        "\n",
        "### Using Accelerated Hardware\n",
        "- [TensorFlow with GPUs](/notebooks/gpu.ipynb)\n",
        "- [TensorFlow with TPUs](/notebooks/tpu.ipynb)"
      ]
    },
    {
      "cell_type": "markdown",
      "metadata": {
        "colab_type": "text",
        "id": "P-H6Lw1vyNNd"
      },
      "source": [
        "## Machine Learning Examples: Seedbank\n",
        "\n",
        "To see end-to-end examples of the interactive machine learning analyses that Colaboratory makes possible, check out the [Seedbank](https://research.google.com/seedbank/) project.\n",
        "\n",
        "A few featured examples:\n",
        "\n",
        "- [Neural Style Transfer](https://research.google.com/seedbank/seed/neural_style_transfer_with_tfkeras): Use deep learning to transfer style between images.\n",
        "- [EZ NSynth](https://research.google.com/seedbank/seed/ez_nsynth): Synthesize audio with WaveNet auto-encoders.\n",
        "- [Fashion MNIST with Keras and TPUs](https://research.google.com/seedbank/seed/fashion_mnist_with_keras_and_tpus): Classify fashion-related images with deep learning.\n",
        "- [DeepDream](https://research.google.com/seedbank/seed/deepdream): Produce DeepDream images from your own photos.\n",
        "- [Convolutional VAE](https://research.google.com/seedbank/seed/convolutional_vae): Create a generative model of handwritten digits."
      ]
    },
    {
      "cell_type": "markdown",
      "metadata": {
        "id": "NBp-AiEBdB46",
        "colab_type": "text"
      },
      "source": [
        "# [Markdown](https://colab.research.google.com/notebooks/markdown_guide.ipynb#scrollTo=70pYkR9LiOV0)\n",
        "- Headers are created using #. Use multiple ### for less emphasis.\n",
        "- To make text bold surround it with **two asterisks**. To make text italic use a *single asterisk* or _underscore_. Strikethrough uses ~~two tildes~~ while monospace (such as code) uses `backtick`.\n",
        "-Blocks are indented with >, and multiple levels of indentation are indicated by repetition: >>> indents three levels.\n",
        "-Ordered lists are created by typing any number followed by a period at the beginning of a line. Unordered lists are * or - at the beginning of a line. Lists can be nested by indenting using two spaces for each level of nesting.\n",
        "-Links are created with [brackets around the linked text](and-parentheses-around-the-url.html). \n",
        "-A '!' character in front of a link turns it into an inline image link: !\\[Alt text]\\(link-to-an-image.png).\n",
        "-$\\LaTeX$ equations are surrounded by `$`. For example, `$y = 0.1 x$` renders as the following inline equation: $y = 0.1 x$. Double the `$` to set the contents off on its own centered line.\n",
        "-Horizontal rules are created with three or more hyphens, underscores, or asterisks (\\-\\-\\-, \\_\\_\\_, or \\*\\*\\*) on their own line.\n",
        "\n",
        "- Tables are created using \\-\\-\\- for the boundary between the column header and columns and \\| between the columns.\n",
        "\n",
        "- Please see also [GitHub's documentation](https://help.github.com/articles/basic-writing-and-formatting-syntax/) for a similar (but not identical) version of markdown.\n",
        "\n",
        "\n"
      ]
    },
    {
      "cell_type": "markdown",
      "metadata": {
        "id": "_-ehVx5LiWtf",
        "colab_type": "text"
      },
      "source": [
        "# Python syntax"
      ]
    },
    {
      "cell_type": "markdown",
      "metadata": {
        "id": "fFqGR41uihEM",
        "colab_type": "text"
      },
      "source": [
        "## strings"
      ]
    },
    {
      "cell_type": "code",
      "metadata": {
        "id": "nUux4BNvhbFV",
        "colab_type": "code",
        "colab": {
          "base_uri": "https://localhost:8080/",
          "height": 85
        },
        "outputId": "129c1b64-6453-4fcc-87a4-e4479cd34ce7"
      },
      "source": [
        "x = \"Nancy\"\n",
        "print(x)\n",
        "print(x[0:3])\n",
        "s= \"My number is %d\" %7\n",
        "print(s)\n",
        "s= \"My number is \"+str(7)\n",
        "print(s)"
      ],
      "execution_count": 3,
      "outputs": [
        {
          "output_type": "stream",
          "text": [
            "Nancy\n",
            "Nan\n",
            "My number is 7\n",
            "My number is 7\n"
          ],
          "name": "stdout"
        }
      ]
    },
    {
      "cell_type": "markdown",
      "metadata": {
        "id": "hsnmzd5Aj7U8",
        "colab_type": "text"
      },
      "source": [
        "## replace"
      ]
    },
    {
      "cell_type": "code",
      "metadata": {
        "id": "kcXVup_WhhIW",
        "colab_type": "code",
        "colab": {
          "base_uri": "https://localhost:8080/",
          "height": 51
        },
        "outputId": "8513fd58-9b01-4e34-d8e8-6a24567f81ba"
      },
      "source": [
        "s = \"Hellow world\"\n",
        "s = s.replace(\"world\", \"universe\")\n",
        "print(s)\n",
        "s =  \"Hellow world world world\"\n",
        "s = s.replace(\"world\", \"universe\",2)\n",
        "print(s)"
      ],
      "execution_count": 5,
      "outputs": [
        {
          "output_type": "stream",
          "text": [
            "Hellow universe\n",
            "Hellow universe universe world\n"
          ],
          "name": "stdout"
        }
      ]
    },
    {
      "cell_type": "markdown",
      "metadata": {
        "id": "ioA74PBhmkxv",
        "colab_type": "text"
      },
      "source": [
        "## string find\n",
        "obj.find(\"query\",start,end)\n",
        "if \"string1\" in \"string2\":"
      ]
    },
    {
      "cell_type": "code",
      "metadata": {
        "id": "hL-v_JT6kH8z",
        "colab_type": "code",
        "colab": {
          "base_uri": "https://localhost:8080/",
          "height": 51
        },
        "outputId": "f7cb6e57-5c3c-49ba-c6be-ed272768f9ea"
      },
      "source": [
        "s = \"123343133\"\n",
        "index = s.find(\"33\")\n",
        "print(index)\n",
        "index = s.find(\"33\",3)\n",
        "print(index)"
      ],
      "execution_count": 9,
      "outputs": [
        {
          "output_type": "stream",
          "text": [
            "2\n",
            "7\n"
          ],
          "name": "stdout"
        }
      ]
    },
    {
      "cell_type": "markdown",
      "metadata": {
        "id": "6Eh-5Iu3o0M0",
        "colab_type": "text"
      },
      "source": [
        "## join\n",
        "The join(sequence) method joins elements and returns the combined string. The join methods combines every element of the sequence."
      ]
    },
    {
      "cell_type": "code",
      "metadata": {
        "id": "dgWNGHvwm6--",
        "colab_type": "code",
        "colab": {
          "base_uri": "https://localhost:8080/",
          "height": 51
        },
        "outputId": "cf63f081-5e24-48e7-808a-ceeb707cc706"
      },
      "source": [
        "sequence = (\"abc\", \"def\")\n",
        "name =\" \".join(sequence)\n",
        "print(name)\n",
        "words = [\"How\", \"are\", \"you\",\"doing\",\"?\"]\n",
        "sentence = \" \".join(words)\n",
        "print(sentence)"
      ],
      "execution_count": 12,
      "outputs": [
        {
          "output_type": "stream",
          "text": [
            "abc def\n",
            "How are you doing ?\n"
          ],
          "name": "stdout"
        }
      ]
    },
    {
      "cell_type": "markdown",
      "metadata": {
        "id": "OjiCoolypS2A",
        "colab_type": "text"
      },
      "source": [
        "split\n",
        "\n",
        "String to words: A string can be split into substrings using the split(param) method\n",
        "String to characters: use list()"
      ]
    },
    {
      "cell_type": "code",
      "metadata": {
        "id": "LI2YM_epo5aK",
        "colab_type": "code",
        "colab": {
          "base_uri": "https://localhost:8080/",
          "height": 34
        },
        "outputId": "da2ab397-d791-453a-ad49-34d058e1bc90"
      },
      "source": [
        "s = \"its to easy\"\n",
        "words = s.split()\n",
        "print(words)"
      ],
      "execution_count": 13,
      "outputs": [
        {
          "output_type": "stream",
          "text": [
            "['its', 'to', 'easy']\n"
          ],
          "name": "stdout"
        }
      ]
    },
    {
      "cell_type": "code",
      "metadata": {
        "id": "dmXVuHEipnjX",
        "colab_type": "code",
        "colab": {
          "base_uri": "https://localhost:8080/",
          "height": 34
        },
        "outputId": "067fa033-44d6-4867-d468-13b83dea1c41"
      },
      "source": [
        "word = \"Easy\"\n",
        "x = list(word)\n",
        "print(x)"
      ],
      "execution_count": 14,
      "outputs": [
        {
          "output_type": "stream",
          "text": [
            "['E', 'a', 's', 'y']\n"
          ],
          "name": "stdout"
        }
      ]
    },
    {
      "cell_type": "markdown",
      "metadata": {
        "id": "5mLSCP1-qB79",
        "colab_type": "text"
      },
      "source": [
        "## random number\n",
        "\n",
        " import module"
      ]
    },
    {
      "cell_type": "code",
      "metadata": {
        "id": "gx0TSWnHqBZz",
        "colab_type": "code",
        "colab": {
          "base_uri": "https://localhost:8080/",
          "height": 68
        },
        "outputId": "4480147d-64dc-44cc-9ee6-25b074ae3b5b"
      },
      "source": [
        "import random\n",
        "print(random.random()) #floating number\n",
        "print(random.randrange(0,10)) # integer between 0 and 10\n",
        "print(random.uniform(0,10)) #floating number between 0 and 10\n"
      ],
      "execution_count": 15,
      "outputs": [
        {
          "output_type": "stream",
          "text": [
            "0.3481751012668812\n",
            "8\n",
            "8.321845931305496\n"
          ],
          "name": "stdout"
        }
      ]
    },
    {
      "cell_type": "markdown",
      "metadata": {
        "id": "8ovDutODvXyM",
        "colab_type": "text"
      },
      "source": [
        "## keyboard input\n",
        "\n",
        "The input() function will ask keyboard input from the user. "
      ]
    },
    {
      "cell_type": "code",
      "metadata": {
        "id": "rTYNo5mTpvSu",
        "colab_type": "code",
        "colab": {
          "base_uri": "https://localhost:8080/",
          "height": 51
        },
        "outputId": "81c278bd-4d11-42b7-c463-6a91368bc5ab"
      },
      "source": [
        "name = input (\"what is your name? \")\n",
        "print ('Hello ' + name + \"!\")"
      ],
      "execution_count": 18,
      "outputs": [
        {
          "output_type": "stream",
          "text": [
            "what is your name? CL\n",
            "Hello CL !\n"
          ],
          "name": "stdout"
        }
      ]
    },
    {
      "cell_type": "markdown",
      "metadata": {
        "id": "E2eHy4Mnv1Q6",
        "colab_type": "text"
      },
      "source": [
        "## if statements"
      ]
    },
    {
      "cell_type": "code",
      "metadata": {
        "id": "iRKyFkXtvl44",
        "colab_type": "code",
        "colab": {
          "base_uri": "https://localhost:8080/",
          "height": 51
        },
        "outputId": "2aea632f-b650-42d1-a5e8-113ff93bce04"
      },
      "source": [
        "number = input (\"input a number: \")\n",
        "if int(number) %2 == 0:\n",
        "  print (\"your number is even\")\n",
        "else:\n",
        "  print(\"your number is odd\")"
      ],
      "execution_count": 20,
      "outputs": [
        {
          "output_type": "stream",
          "text": [
            "input a number: 13\n",
            "your number is odd\n"
          ],
          "name": "stdout"
        }
      ]
    },
    {
      "cell_type": "markdown",
      "metadata": {
        "id": "SFPtjbUAwUt6",
        "colab_type": "text"
      },
      "source": [
        "## for loops\n"
      ]
    },
    {
      "cell_type": "code",
      "metadata": {
        "id": "-DcBrCVPwJtJ",
        "colab_type": "code",
        "colab": {
          "base_uri": "https://localhost:8080/",
          "height": 187
        },
        "outputId": "1705d4bd-e7c2-413c-e0ee-287b3ce23b07"
      },
      "source": [
        "list1 = ['a','b','c','d']\n",
        "for x in list1:\n",
        "  print(x)\n",
        "print('\\n')\n",
        "list2 = [1,2,3,4]\n",
        "for x in list2:\n",
        "  print(str(x)+'*'+str(x)+'='+str(x*x))"
      ],
      "execution_count": 21,
      "outputs": [
        {
          "output_type": "stream",
          "text": [
            "a\n",
            "b\n",
            "c\n",
            "d\n",
            "\n",
            "\n",
            "1*1=1\n",
            "2*2=4\n",
            "3*3=9\n",
            "4*4=16\n"
          ],
          "name": "stdout"
        }
      ]
    },
    {
      "cell_type": "markdown",
      "metadata": {
        "id": "0YGxqmOqw-X4",
        "colab_type": "text"
      },
      "source": [
        "## while loop"
      ]
    },
    {
      "cell_type": "code",
      "metadata": {
        "id": "dJyky15Kw6j8",
        "colab_type": "code",
        "colab": {
          "base_uri": "https://localhost:8080/",
          "height": 85
        },
        "outputId": "fa67221c-ee48-461a-938f-de3e7b620ef6"
      },
      "source": [
        "x = 3\n",
        "while x < 7:\n",
        "  print(x)\n",
        "  x = x + 1"
      ],
      "execution_count": 22,
      "outputs": [
        {
          "output_type": "stream",
          "text": [
            "3\n",
            "4\n",
            "5\n",
            "6\n"
          ],
          "name": "stdout"
        }
      ]
    },
    {
      "cell_type": "markdown",
      "metadata": {
        "id": "HtTFFZgGxPPp",
        "colab_type": "text"
      },
      "source": [
        "## functions"
      ]
    },
    {
      "cell_type": "code",
      "metadata": {
        "id": "Ua2xNumbxJ-X",
        "colab_type": "code",
        "colab": {
          "base_uri": "https://localhost:8080/",
          "height": 34
        },
        "outputId": "e48fc431-b01e-4c37-8589-d26041458fc2"
      },
      "source": [
        "def f(x,y):\n",
        "  return x*y \n",
        "\n",
        "print(f(3,4))"
      ],
      "execution_count": 23,
      "outputs": [
        {
          "output_type": "stream",
          "text": [
            "12\n"
          ],
          "name": "stdout"
        }
      ]
    },
    {
      "cell_type": "markdown",
      "metadata": {
        "id": "DR8cDYIQzYgN",
        "colab_type": "text"
      },
      "source": [
        "## lists\n"
      ]
    },
    {
      "cell_type": "code",
      "metadata": {
        "id": "zEsmHskPxZhf",
        "colab_type": "code",
        "colab": {
          "base_uri": "https://localhost:8080/",
          "height": 68
        },
        "outputId": "e4257c89-6ab9-4d96-ad32-6536bc3dbdca"
      },
      "source": [
        "list1 = ['a','b','c']\n",
        "print(list1[1])\n",
        "list2 = [1,3,4,2,7]\n",
        "print(list2[-1])\n",
        "print(sum(list2))"
      ],
      "execution_count": 24,
      "outputs": [
        {
          "output_type": "stream",
          "text": [
            "b\n",
            "7\n",
            "17\n"
          ],
          "name": "stdout"
        }
      ]
    },
    {
      "cell_type": "markdown",
      "metadata": {
        "id": "OjS7naIWz4tb",
        "colab_type": "text"
      },
      "source": [
        "list operations"
      ]
    },
    {
      "cell_type": "code",
      "metadata": {
        "id": "FM88FRZjz0Lb",
        "colab_type": "code",
        "colab": {
          "base_uri": "https://localhost:8080/",
          "height": 85
        },
        "outputId": "17286a94-eaf9-456e-dabf-30d6cb5cdeb7"
      },
      "source": [
        "x=[3,4,5]\n",
        "x.append(6)\n",
        "print(x)\n",
        "x.append(7)\n",
        "print(x)\n",
        "x.pop()\n",
        "print(x)\n",
        "print(x[1:3])"
      ],
      "execution_count": 27,
      "outputs": [
        {
          "output_type": "stream",
          "text": [
            "[3, 4, 5, 6]\n",
            "[3, 4, 5, 6, 7]\n",
            "[3, 4, 5, 6]\n",
            "[4, 5]\n"
          ],
          "name": "stdout"
        }
      ]
    },
    {
      "cell_type": "markdown",
      "metadata": {
        "id": "fktGNKUo0WOc",
        "colab_type": "text"
      },
      "source": [
        "sort list\n",
        "\n",
        "x.sort()\n",
        "\n",
        "words = words[::-1]\n",
        "\n",
        "x = list(reversed(x))"
      ]
    },
    {
      "cell_type": "code",
      "metadata": {
        "id": "nak_leoD0a7A",
        "colab_type": "code",
        "colab": {
          "base_uri": "https://localhost:8080/",
          "height": 85
        },
        "outputId": "bd21d58c-d698-476d-a0cc-61844389303f"
      },
      "source": [
        "x=[4,2,5,7,3,4,0]\n",
        "x.sort()\n",
        "print(x)\n",
        "y=['c','e','2','a','b']\n",
        "y.sort()\n",
        "print(y)\n",
        "x = list(reversed(x))\n",
        "print(x)\n",
        "print(y[::-1])"
      ],
      "execution_count": 31,
      "outputs": [
        {
          "output_type": "stream",
          "text": [
            "[0, 2, 3, 4, 4, 5, 7]\n",
            "['2', 'a', 'b', 'c', 'e']\n",
            "[7, 5, 4, 4, 3, 2, 0]\n",
            "['e', 'c', 'b', 'a', '2']\n"
          ],
          "name": "stdout"
        }
      ]
    },
    {
      "cell_type": "markdown",
      "metadata": {
        "id": "mhrK1Rcj1MZL",
        "colab_type": "text"
      },
      "source": [
        "## range function"
      ]
    },
    {
      "cell_type": "code",
      "metadata": {
        "id": "sIdtTyLl0Mz7",
        "colab_type": "code",
        "colab": {
          "base_uri": "https://localhost:8080/",
          "height": 102
        },
        "outputId": "87eadfe7-a915-47fe-c86f-0a81c53b5488"
      },
      "source": [
        "x= list(range(3,8))\n",
        "print(x)\n",
        "for i in range(5,9):\n",
        "  print(i)"
      ],
      "execution_count": 33,
      "outputs": [
        {
          "output_type": "stream",
          "text": [
            "[3, 4, 5, 6, 7]\n",
            "5\n",
            "6\n",
            "7\n",
            "8\n"
          ],
          "name": "stdout"
        }
      ]
    },
    {
      "cell_type": "markdown",
      "metadata": {
        "id": "Wpgvop5K1byq",
        "colab_type": "text"
      },
      "source": [
        "## dictionary\n",
        "\n",
        " they contain a list of items, each item has a key and a value.\n",
        "\n",
        " words = {}\n",
        "\n",
        "words[key] = value\n"
      ]
    },
    {
      "cell_type": "code",
      "metadata": {
        "id": "fw1SJuOY1VB6",
        "colab_type": "code",
        "colab": {
          "base_uri": "https://localhost:8080/",
          "height": 34
        },
        "outputId": "f703eb61-6d2d-4e0a-874c-de1efc362c71"
      },
      "source": [
        "words = {}\n",
        "words['1'] = 'a'\n",
        "words['2'] = 'b'\n",
        "words['3'] = 'c'\n",
        "print(words['2'])\n"
      ],
      "execution_count": 35,
      "outputs": [
        {
          "output_type": "stream",
          "text": [
            "b\n"
          ],
          "name": "stdout"
        }
      ]
    },
    {
      "cell_type": "markdown",
      "metadata": {
        "id": "CCT2BPAL2D9x",
        "colab_type": "text"
      },
      "source": [
        "## read file\n",
        "\n",
        "line by line: readlines()\n",
        "\n",
        "read block: read()"
      ]
    },
    {
      "cell_type": "code",
      "metadata": {
        "id": "Wk44QSNw1_XA",
        "colab_type": "code",
        "colab": {}
      },
      "source": [
        "filename = 'file.py'\n",
        "with open(filename) as f:\n",
        "  content = f.readlines()  # line by line\n",
        "\n",
        "print(content)"
      ],
      "execution_count": 0,
      "outputs": []
    },
    {
      "cell_type": "code",
      "metadata": {
        "id": "2vL_SCEx3b7Y",
        "colab_type": "code",
        "colab": {}
      },
      "source": [
        "filename = \"file.py\"\n",
        "\n",
        "inflie = open(filename, 'r')\n",
        "data = infile.read() \n",
        "infile.close()\n",
        "\n",
        "print(data)"
      ],
      "execution_count": 0,
      "outputs": []
    },
    {
      "cell_type": "markdown",
      "metadata": {
        "id": "BQWxdJEe3uvP",
        "colab_type": "text"
      },
      "source": [
        "write file"
      ]
    },
    {
      "cell_type": "code",
      "metadata": {
        "id": "OTfDGg7r3wVv",
        "colab_type": "code",
        "colab": {}
      },
      "source": [
        "f = open('test.txt', 'w') # to write\n",
        "f.write(\"first line, \\n\")\n",
        "f.write(\"second line\")\n",
        "f.close()\n",
        "\n",
        "f = open('test.txt', 'a') # to append\n",
        "f.write(\"first line, \\n\")\n",
        "f.write(\"second line\")\n",
        "f.close()"
      ],
      "execution_count": 0,
      "outputs": []
    },
    {
      "cell_type": "markdown",
      "metadata": {
        "id": "iy2qlIU_4Lk3",
        "colab_type": "text"
      },
      "source": [
        "## nested loops\n"
      ]
    },
    {
      "cell_type": "code",
      "metadata": {
        "id": "_onqUG1u4VZO",
        "colab_type": "code",
        "colab": {
          "base_uri": "https://localhost:8080/",
          "height": 68
        },
        "outputId": "8e0f3ed5-cfaa-4964-8feb-c148ee48e108"
      },
      "source": [
        "for i in range(0,3):\n",
        "  s=[]\n",
        "  for j in range(0,3):\n",
        "    s.append((i,j))\n",
        "  print(s)\n"
      ],
      "execution_count": 40,
      "outputs": [
        {
          "output_type": "stream",
          "text": [
            "[(0, 0), (0, 1), (0, 2)]\n",
            "[(1, 0), (1, 1), (1, 2)]\n",
            "[(2, 0), (2, 1), (2, 2)]\n"
          ],
          "name": "stdout"
        }
      ]
    },
    {
      "cell_type": "markdown",
      "metadata": {
        "id": "G0pP2c785Wgr",
        "colab_type": "text"
      },
      "source": [
        "## slices\n"
      ]
    },
    {
      "cell_type": "code",
      "metadata": {
        "id": "yPXgivrN4pPi",
        "colab_type": "code",
        "colab": {
          "base_uri": "https://localhost:8080/",
          "height": 51
        },
        "outputId": "de212323-dd17-4cb5-d164-8571bc5b89b6"
      },
      "source": [
        "list1 = ['a','b','c']\n",
        "slice = list1[0:2]\n",
        "print(slice)\n",
        "s = 'summer holiday at beach'\n",
        "print(s[3:12])"
      ],
      "execution_count": 44,
      "outputs": [
        {
          "output_type": "stream",
          "text": [
            "['a', 'b']\n",
            "mer holid\n"
          ],
          "name": "stdout"
        }
      ]
    },
    {
      "cell_type": "markdown",
      "metadata": {
        "id": "FR4YMqoW9gTC",
        "colab_type": "text"
      },
      "source": [
        "## multiple return"
      ]
    },
    {
      "cell_type": "code",
      "metadata": {
        "id": "j2Fuvgny8dBu",
        "colab_type": "code",
        "colab": {
          "base_uri": "https://localhost:8080/",
          "height": 34
        },
        "outputId": "6d14ae6a-69b3-4dee-aca5-8b8637b0d9d1"
      },
      "source": [
        "def getPerson():\n",
        "  name = \"Leona\"\n",
        "  age = 35\n",
        "  country = \"UK\"\n",
        "  return name, age, country\n",
        "\n",
        "name, age, country = getPerson()\n",
        "print(name,age,country)"
      ],
      "execution_count": 45,
      "outputs": [
        {
          "output_type": "stream",
          "text": [
            "Leona 35 UK\n"
          ],
          "name": "stdout"
        }
      ]
    },
    {
      "cell_type": "markdown",
      "metadata": {
        "id": "Oa98uFJH93wU",
        "colab_type": "text"
      },
      "source": [
        "## scope"
      ]
    },
    {
      "cell_type": "code",
      "metadata": {
        "id": "lE4x-fx691SL",
        "colab_type": "code",
        "colab": {
          "base_uri": "https://localhost:8080/",
          "height": 34
        },
        "outputId": "82ca1c1d-1946-4fc5-a190-529c7c85ca9b"
      },
      "source": [
        "x = 0\n",
        "def add1(y):\n",
        "  global x\n",
        "  x = x + y\n",
        "\n",
        "add1(5)\n",
        "print(x)"
      ],
      "execution_count": 46,
      "outputs": [
        {
          "output_type": "stream",
          "text": [
            "5\n"
          ],
          "name": "stdout"
        }
      ]
    },
    {
      "cell_type": "markdown",
      "metadata": {
        "id": "jIXk4GxT-hte",
        "colab_type": "text"
      },
      "source": [
        "## time and date\n",
        "\n",
        "import time"
      ]
    },
    {
      "cell_type": "code",
      "metadata": {
        "id": "M1n9dd2Q-bHS",
        "colab_type": "code",
        "colab": {
          "base_uri": "https://localhost:8080/",
          "height": 85
        },
        "outputId": "9b5c6714-bb8b-4928-d0f4-188272191260"
      },
      "source": [
        "import time\n",
        "timenow = time.localtime(time.time())\n",
        "print(timenow)\n",
        "year,month,day,hour,minute = timenow[0:5]\n",
        "print(str(day) + \"/\" + str(month) + \"/\" + str(year))\n",
        "print(str(hour) + \":\" + str(minute))\n",
        "time.time() # get the number of seconds since epoch time\n",
        "time.gmtime() # To get the time sequence\n",
        "time.asctime() # Time in string\n",
        "time.ctime()\n",
        "\n"
      ],
      "execution_count": 53,
      "outputs": [
        {
          "output_type": "stream",
          "text": [
            "time.struct_time(tm_year=2019, tm_mon=12, tm_mday=20, tm_hour=20, tm_min=32, tm_sec=36, tm_wday=4, tm_yday=354, tm_isdst=0)\n",
            "20/12/2019\n",
            "20:32\n"
          ],
          "name": "stdout"
        },
        {
          "output_type": "execute_result",
          "data": {
            "text/plain": [
              "'Fri Dec 20 20:32:36 2019'"
            ]
          },
          "metadata": {
            "tags": []
          },
          "execution_count": 53
        }
      ]
    },
    {
      "cell_type": "code",
      "metadata": {
        "id": "VFSi1sks-6lK",
        "colab_type": "code",
        "colab": {
          "base_uri": "https://localhost:8080/",
          "height": 51
        },
        "outputId": "f2b69836-696d-4b26-bd0d-c347f50e10d8"
      },
      "source": [
        "print(\"Hello\")\n",
        "time.sleep(1) # You can make the program hault execution.\n",
        "print(\"World\")\n",
        "time.sleep(1)"
      ],
      "execution_count": 54,
      "outputs": [
        {
          "output_type": "stream",
          "text": [
            "Hello\n",
            "World\n"
          ],
          "name": "stdout"
        }
      ]
    },
    {
      "cell_type": "code",
      "metadata": {
        "id": "dVkjRxft_EnQ",
        "colab_type": "code",
        "colab": {}
      },
      "source": [
        ""
      ],
      "execution_count": 0,
      "outputs": []
    }
  ]
}